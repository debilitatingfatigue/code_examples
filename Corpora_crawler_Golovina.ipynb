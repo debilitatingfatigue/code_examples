{
 "cells": [
  {
   "cell_type": "markdown",
   "id": "d7056176",
   "metadata": {},
   "source": [
    "### Я сделаю две реализации краулера: requests + BeautifulSoup и Selenium.\n",
    "# requests + BeautifulSoup (Эминем)\n",
    "Сначала импортируем необходимые модули."
   ]
  },
  {
   "cell_type": "code",
   "execution_count": 107,
   "id": "4f3302a0",
   "metadata": {},
   "outputs": [],
   "source": [
    "from bs4 import BeautifulSoup\n",
    "from fake_useragent import UserAgent\n",
    "import re\n",
    "import requests"
   ]
  },
  {
   "cell_type": "markdown",
   "id": "ed6b494e",
   "metadata": {},
   "source": [
    "Проверяем, что соединение со страницей вообще есть."
   ]
  },
  {
   "cell_type": "code",
   "execution_count": 108,
   "id": "2e7242df",
   "metadata": {},
   "outputs": [
    {
     "data": {
      "text/plain": [
       "200"
      ]
     },
     "execution_count": 108,
     "metadata": {},
     "output_type": "execute_result"
    }
   ],
   "source": [
    "session = requests.session()\n",
    "response = session.get('https://www.amalgama-lab.com/songs/e/eminem/8_mile.html')\n",
    "response.status_code"
   ]
  },
  {
   "cell_type": "markdown",
   "id": "adc03a5f",
   "metadata": {},
   "source": [
    "Дальше маскируем краулера с помощью fake_useragent и вытаскиваем текст песни.\n",
    "Текст песни на английском языке располагается в классе original построчно, поэтому необходимо вытащить все элементы под этим классом и вытащить именно текстовое содержание. Не удаляла строки наподобие *[Eminem:]* или *[Chorus:]*, поскольку это, вроде, в задании не требуется."
   ]
  },
  {
   "cell_type": "code",
   "execution_count": 109,
   "id": "c8257e19",
   "metadata": {},
   "outputs": [
    {
     "name": "stdout",
     "output_type": "stream",
     "text": [
      "8 Mile* (оригинал Eminem)\n",
      "\n",
      "[Eminem:]\n",
      "  Sometimes I just feel like, quittin I still might\n",
      "  Why do I put up this fight, why do I still write\n",
      "  Sometimes it's hard enough just dealin with real life\n",
      "  Sometimes I wanna jump on stage and just kill mics\n",
      "  And show these people what my level of skill's like\n",
      "  But I'm still white, sometimes I just hate life\n",
      "  Somethin ain't right, hit the brake lights\n",
      "  Case of the stage fright, drawin a blank like\n",
      "  Da-duh-duh-da-da, it ain't my fault\n",
      "  Great then I falls, my insides crawl\n",
      "  And I clam up {*wham*} I just slam shut\n",
      "  I just can't do it, my whole manhood's\n",
      "  Just been stripped, I have just been vicked\n",
      "  So I must then get, off the bus then split\n",
      "  Man fuck this shit yo, I'm goin the fuck home\n",
      "  World on my shoulders as I run back to this 8 Mile Road\n",
      "[Chorus:]\n",
      "  I'm a man, I'ma make a new plan\n",
      "  Time for me to just stand up, and travel new land\n",
      "  Time to really just take matters into my own hands\n",
      "  Once I'm over these tracks man i'ma never look back\n",
      "  (8 Mile Road) And I'm gone, I know right where I'm goin\n",
      "  Sorry momma I'm grown, I must travel alone\n",
      "  And go follow the footsteps I'm makin my own\n",
      "  Only way that I know how to escape from this 8 Mile Road\n",
      "[Eminem:]\n",
      "  I'm walkin these train tracks, tryin to regain back\n",
      "  The spirit I had 'fore I go back to the same crap\n",
      "  To the same plant, and the same pants\n",
      "  Tryin to chase rap, gotta move ASAP\n",
      "  And get a new plan, momma's got a new man\n",
      "  Poor little baby sister, she don't understand\n",
      "  Sits in front of the TV, buries her nose in the pad\n",
      "  And just colors until the crayon gets dull in her hand\n",
      "  While she colors her big brother and mother and dad\n",
      "  Ain't no tellin what really goes on in her little head\n",
      "  Wish I could be the daddy that neither one of us had\n",
      "  But I keep runnin from somethin I never wanted so bad!\n",
      "  Sometimes I get upset, cause I ain't blew up yet\n",
      "  It's like I grew up, but I ain't grow me two nuts yet\n",
      "  Don't gotta rep my step, don't got enough pep\n",
      "  The pressure's too much man, I'm just tryin to do what's best\n",
      "  And I try, sit alone and I cry\n",
      "  Yo I won't tell no lie, not a moment goes by\n",
      "  That I don't pray to the sky, please I'm beggin you God\n",
      "  Please don't let me be bitchin holdin no regular job\n",
      "  Yo I hope you can hear me homey wherever you are\n",
      "  Yo I'm tellin you dawg I'm bailin this trailer tomorrow\n",
      "  Tell my mother I love her, kiss baby sister goodbye\n",
      "  Say whenever you need me baby, I'm never too far\n",
      "  But yo I gotta get out there, the only way I know\n",
      "  And I'ma be back for you, the second that I blow\n",
      "  On everything I own, I'll make it on my own\n",
      "  Off to work I go, back to this 8 Mile Road\n",
      "[Chorus:]\n",
      "  I'm a man, I'ma make a new plan\n",
      "  Time for me to just stand up, and travel new land\n",
      "  Time to really just take matters into my own hands\n",
      "  Once I'm over these tracks man i'ma never look back\n",
      "  (8 Mile Road) And I'm gone, I know right where I'm goin\n",
      "  Sorry momma I'm grown, I must travel alone\n",
      "  And go follow the footsteps I'm makin my own\n",
      "  Only way that I know how to escape from this 8 Mile Road\n",
      "[Eminem:]\n",
      "  You gotta live it to feel it, you didn't you wouldn't get it\n",
      "  Or see what the big deal is, why it was and it still is\n",
      "  To be walkin this borderline of Detroit city limits\n",
      "  It's different, it's a certain significance, a certificate\n",
      "  Of authenticity, you'd never even see\n",
      "  But it's everything to me, it's my credibility\n",
      "  You never seen heard smelled or met a real MC\n",
      "  Who's incredible upon the same pedestal as me\n",
      "  But yet I'm still unsigned, havin a rough time\n",
      "  Sit on the porch with all my friends and kick dumb rhymes\n",
      "  Go to work and serve MC's in the lunchline\n",
      "  But when it comes crunch time, where do my punchlines go\n",
      "  Who must I show, to bust my flow\n",
      "  Where must I go, who must I know\n",
      "  Or am I just another crab in the bucket\n",
      "  Cause I ain't havin no luck with this little Rabbit so fuck it\n",
      "  Maybe I need a new outlet, I'm startin to doubt shit\n",
      "  I'm feelin a little skeptical who I hang out with\n",
      "  I look like a bum, yo my clothes ain't about shit\n",
      "  If the Salvation Army tryin to salvage an outfit\n",
      "  And it's cold, tryin to travel this road\n",
      "  Plus I feel like I'm on stuck in this battlin mode\n",
      "  My defenses are so up, but one thing I don't want\n",
      "  Is pity from no one, the city is no fun\n",
      "  There is no sun, and it's so dark\n",
      "  Sometimes I feel like I'm just bein pulled apart\n",
      "  I'm torn in my limbs, by each one of my friends\n",
      "  It's enough to make me just wanna jump out of my skin\n",
      "  Sometimes I feel like a robot, sometimes I just know not\n",
      "  What I'm doin I just blow, my head is a stove top\n",
      "  I just explode, the kettle gets so hot\n",
      "  Sometimes my mouth just overloads the ass that I don't got\n",
      "  But i've learned, it's time for me to U-turn\n",
      "  Yo it only takes one time for me to get burned\n",
      "  Ain't no fallin no next time I meet a new girl\n",
      "  I can no longer play stupid or be immature\n",
      "  I got every ingredient, all I need is the courage\n",
      "  Like I already got the beat, all I need is the words\n",
      "  Got the urge, suddenly it's a surge\n",
      "  Suddenly a new burst of energy is occured\n",
      "  Time to show these free world leaders the three and a third\n",
      "  I am no longer scared now, I'm free as a bird\n",
      "  Then I turn and cross over the median curb\n",
      "  Hit the verbs and all you see is a blur from 8 Mile Road\n",
      "[Chorus:]\n",
      "  I'm a man, I'ma make a new plan\n",
      "  Time for me to just stand up, and travel new land\n",
      "  Time to really just take matters into my own hands\n",
      "  Once I'm over these tracks man i'ma never look back\n",
      "  (8 Mile Road) And I'm gone, I know right where I'm goin\n",
      "  Sorry momma I'm grown, I must travel alone\n",
      "  And go follow the footsteps I'm makin my own\n",
      "  Only way that I know how to escape from this 8 Mile Road\n",
      "* — OST 8 Mile (саундтрек к к/ф \"8 Миля\")\n",
      "\n"
     ]
    }
   ],
   "source": [
    "user_agent = UserAgent().chrome\n",
    "\n",
    "url = \"https://www.amalgama-lab.com/songs/e/eminem/8_mile.html\"\n",
    "response = requests.get(url, headers={'User-Agent':user_agent})\n",
    "song_block = response.text\n",
    "soup = BeautifulSoup(song_block, \"html.parser\")\n",
    "\n",
    "song_text = [line.text for line in soup.find_all(class_=\"original\")] # получаем именно текстовое содержимое того, что находим под классом original\n",
    "song_text[0] = song_text[0] + \"\\n\\n\" # шаг исключительно для красоты вывода, чтобы название визуально отделялось от текста\n",
    "text = \"\".join(song_text) # склеиваем строки в списке\n",
    "print(text)"
   ]
  },
  {
   "cell_type": "markdown",
   "id": "fccd2eba",
   "metadata": {},
   "source": [
    "Чтобы оценить результат, сохраняем в файл (можно было бы и в базу данных, но для небольшого задания в этом нет смысла)."
   ]
  },
  {
   "cell_type": "code",
   "execution_count": 110,
   "id": "904dd7e8",
   "metadata": {},
   "outputs": [],
   "source": [
    "with open(\"Eminem_song.txt\", \"w\", encoding=\"utf-8\") as file:\n",
    "    file.write(text)"
   ]
  },
  {
   "cell_type": "markdown",
   "id": "212a4e7e",
   "metadata": {},
   "source": [
    "# Selenium (Эминем)\n",
    "Снова начинаем с импорта необходимых модулей."
   ]
  },
  {
   "cell_type": "code",
   "execution_count": 111,
   "id": "1bd1f58a",
   "metadata": {},
   "outputs": [],
   "source": [
    "from selenium import webdriver\n",
    "from selenium.webdriver.common.by import By # из-за обновлений селениума без этого ничего не работает"
   ]
  },
  {
   "cell_type": "markdown",
   "id": "c523043f",
   "metadata": {},
   "source": [
    "Снова ищем строки класса original и вытаскиваем поэлементно текстовое содержание, а затем склеиваем получившийся список.\n",
    "Я лютая однострочница, поэтому в одной строке (третьей) и ищу элементы класса original, и генератором словарей вытаскиваю из полученного списка текстовое содержание элементов, и склеиваю список в строку (склейки $-$ переносы на следующую строку)."
   ]
  },
  {
   "cell_type": "code",
   "execution_count": 112,
   "id": "aa31330e",
   "metadata": {},
   "outputs": [
    {
     "name": "stdout",
     "output_type": "stream",
     "text": [
      "8 Mile* (оригинал Eminem)\n",
      "[Eminem:]\n",
      "Sometimes I just feel like, quittin I still might\n",
      "Why do I put up this fight, why do I still write\n",
      "Sometimes it's hard enough just dealin with real life\n",
      "Sometimes I wanna jump on stage and just kill mics\n",
      "And show these people what my level of skill's like\n",
      "But I'm still white, sometimes I just hate life\n",
      "Somethin ain't right, hit the brake lights\n",
      "Case of the stage fright, drawin a blank like\n",
      "Da-duh-duh-da-da, it ain't my fault\n",
      "Great then I falls, my insides crawl\n",
      "And I clam up {*wham*} I just slam shut\n",
      "I just can't do it, my whole manhood's\n",
      "Just been stripped, I have just been vicked\n",
      "So I must then get, off the bus then split\n",
      "Man fuck this shit yo, I'm goin the fuck home\n",
      "World on my shoulders as I run back to this 8 Mile Road\n",
      "\n",
      "[Chorus:]\n",
      "I'm a man, I'ma make a new plan\n",
      "Time for me to just stand up, and travel new land\n",
      "Time to really just take matters into my own hands\n",
      "Once I'm over these tracks man i'ma never look back\n",
      "(8 Mile Road) And I'm gone, I know right where I'm goin\n",
      "Sorry momma I'm grown, I must travel alone\n",
      "And go follow the footsteps I'm makin my own\n",
      "Only way that I know how to escape from this 8 Mile Road\n",
      "\n",
      "[Eminem:]\n",
      "I'm walkin these train tracks, tryin to regain back\n",
      "The spirit I had 'fore I go back to the same crap\n",
      "To the same plant, and the same pants\n",
      "Tryin to chase rap, gotta move ASAP\n",
      "And get a new plan, momma's got a new man\n",
      "Poor little baby sister, she don't understand\n",
      "Sits in front of the TV, buries her nose in the pad\n",
      "And just colors until the crayon gets dull in her hand\n",
      "While she colors her big brother and mother and dad\n",
      "Ain't no tellin what really goes on in her little head\n",
      "Wish I could be the daddy that neither one of us had\n",
      "But I keep runnin from somethin I never wanted so bad!\n",
      "Sometimes I get upset, cause I ain't blew up yet\n",
      "It's like I grew up, but I ain't grow me two nuts yet\n",
      "Don't gotta rep my step, don't got enough pep\n",
      "The pressure's too much man, I'm just tryin to do what's best\n",
      "And I try, sit alone and I cry\n",
      "Yo I won't tell no lie, not a moment goes by\n",
      "That I don't pray to the sky, please I'm beggin you God\n",
      "Please don't let me be bitchin holdin no regular job\n",
      "Yo I hope you can hear me homey wherever you are\n",
      "Yo I'm tellin you dawg I'm bailin this trailer tomorrow\n",
      "Tell my mother I love her, kiss baby sister goodbye\n",
      "Say whenever you need me baby, I'm never too far\n",
      "But yo I gotta get out there, the only way I know\n",
      "And I'ma be back for you, the second that I blow\n",
      "On everything I own, I'll make it on my own\n",
      "Off to work I go, back to this 8 Mile Road\n",
      "\n",
      "[Chorus:]\n",
      "I'm a man, I'ma make a new plan\n",
      "Time for me to just stand up, and travel new land\n",
      "Time to really just take matters into my own hands\n",
      "Once I'm over these tracks man i'ma never look back\n",
      "(8 Mile Road) And I'm gone, I know right where I'm goin\n",
      "Sorry momma I'm grown, I must travel alone\n",
      "And go follow the footsteps I'm makin my own\n",
      "Only way that I know how to escape from this 8 Mile Road\n",
      "\n",
      "[Eminem:]\n",
      "You gotta live it to feel it, you didn't you wouldn't get it\n",
      "Or see what the big deal is, why it was and it still is\n",
      "To be walkin this borderline of Detroit city limits\n",
      "It's different, it's a certain significance, a certificate\n",
      "Of authenticity, you'd never even see\n",
      "But it's everything to me, it's my credibility\n",
      "You never seen heard smelled or met a real MC\n",
      "Who's incredible upon the same pedestal as me\n",
      "But yet I'm still unsigned, havin a rough time\n",
      "Sit on the porch with all my friends and kick dumb rhymes\n",
      "Go to work and serve MC's in the lunchline\n",
      "But when it comes crunch time, where do my punchlines go\n",
      "Who must I show, to bust my flow\n",
      "Where must I go, who must I know\n",
      "Or am I just another crab in the bucket\n",
      "Cause I ain't havin no luck with this little Rabbit so fuck it\n",
      "Maybe I need a new outlet, I'm startin to doubt shit\n",
      "I'm feelin a little skeptical who I hang out with\n",
      "I look like a bum, yo my clothes ain't about shit\n",
      "If the Salvation Army tryin to salvage an outfit\n",
      "And it's cold, tryin to travel this road\n",
      "Plus I feel like I'm on stuck in this battlin mode\n",
      "My defenses are so up, but one thing I don't want\n",
      "Is pity from no one, the city is no fun\n",
      "There is no sun, and it's so dark\n",
      "Sometimes I feel like I'm just bein pulled apart\n",
      "I'm torn in my limbs, by each one of my friends\n",
      "It's enough to make me just wanna jump out of my skin\n",
      "Sometimes I feel like a robot, sometimes I just know not\n",
      "What I'm doin I just blow, my head is a stove top\n",
      "I just explode, the kettle gets so hot\n",
      "Sometimes my mouth just overloads the ass that I don't got\n",
      "But i've learned, it's time for me to U-turn\n",
      "Yo it only takes one time for me to get burned\n",
      "Ain't no fallin no next time I meet a new girl\n",
      "I can no longer play stupid or be immature\n",
      "I got every ingredient, all I need is the courage\n",
      "Like I already got the beat, all I need is the words\n",
      "Got the urge, suddenly it's a surge\n",
      "Suddenly a new burst of energy is occured\n",
      "Time to show these free world leaders the three and a third\n",
      "I am no longer scared now, I'm free as a bird\n",
      "Then I turn and cross over the median curb\n",
      "Hit the verbs and all you see is a blur from 8 Mile Road\n",
      "\n",
      "[Chorus:]\n",
      "I'm a man, I'ma make a new plan\n",
      "Time for me to just stand up, and travel new land\n",
      "Time to really just take matters into my own hands\n",
      "Once I'm over these tracks man i'ma never look back\n",
      "(8 Mile Road) And I'm gone, I know right where I'm goin\n",
      "Sorry momma I'm grown, I must travel alone\n",
      "And go follow the footsteps I'm makin my own\n",
      "Only way that I know how to escape from this 8 Mile Road\n",
      "\n",
      "\n",
      "\n",
      "* — OST 8 Mile (саундтрек к к/ф \"8 Миля\")\n",
      "\n"
     ]
    }
   ],
   "source": [
    "browser = webdriver.Chrome()\n",
    "browser.get('https://www.amalgama-lab.com/songs/e/eminem/8_mile.html') # передаем объекту класса Chrome WebDriver ссылку \n",
    "song_text = \"\\n\".join([item.text for item in browser.find_elements(By.CLASS_NAME, 'original')])\n",
    "print(song_text) "
   ]
  },
  {
   "cell_type": "markdown",
   "id": "a9bd11e9",
   "metadata": {},
   "source": [
    "Записываем на всякий случай в файл."
   ]
  },
  {
   "cell_type": "code",
   "execution_count": 113,
   "id": "2c1997dc",
   "metadata": {},
   "outputs": [],
   "source": [
    "with open(\"Eminem_song_alternative.txt\", \"w\", encoding=\"utf-8\") as file:\n",
    "    file.write(song_text)"
   ]
  },
  {
   "cell_type": "markdown",
   "id": "e336aade",
   "metadata": {},
   "source": [
    "# requests + BeautifulSoup (чукотский)"
   ]
  },
  {
   "cell_type": "markdown",
   "id": "31ceadf1",
   "metadata": {},
   "source": [
    "Проверяем соединение со страницей."
   ]
  },
  {
   "cell_type": "code",
   "execution_count": 114,
   "id": "df0409a1",
   "metadata": {},
   "outputs": [
    {
     "data": {
      "text/plain": [
       "503"
      ]
     },
     "execution_count": 114,
     "metadata": {},
     "output_type": "execute_result"
    }
   ],
   "source": [
    "session = requests.session()\n",
    "response = session.get('https://www.ks87.ru/108/9037')\n",
    "response.status_code"
   ]
  },
  {
   "cell_type": "markdown",
   "id": "8f572c3d",
   "metadata": {},
   "source": [
    "Чукотский не хочет отвечать, а значит, можем попробовать, как сказано в условии, другой новостной сайт (надеюсь, новости науки подойдут, поскольку я выбрала сайт \"Элементы\") и достать статью оттуда."
   ]
  },
  {
   "cell_type": "code",
   "execution_count": 115,
   "id": "99979f45",
   "metadata": {},
   "outputs": [
    {
     "data": {
      "text/plain": [
       "200"
      ]
     },
     "execution_count": 115,
     "metadata": {},
     "output_type": "execute_result"
    }
   ],
   "source": [
    "session = requests.session()\n",
    "response = session.get('https://elementy.ru/novosti_nauki/434110/Adskie_svini_byli_vseyadnymi_a_predki_begemotov_travoyadnymi')\n",
    "response.status_code"
   ]
  },
  {
   "cell_type": "markdown",
   "id": "f3657c07",
   "metadata": {},
   "source": [
    "Контакт со страницей есть, ура.\n",
    "\n",
    "Дальше проделываю то же самое, что и с песней, но меняю названия необходимых классов и делаю больше детализации, чтобы отделить заголовок от текста статьи. К сожалению, в статье есть картинки и подписи к ним, которые относятся к содержанию сайта (на при этом наша цель $-$ текст, а не картинки). Так что оставила текст (включая подписи к картинкам без самих картинок) как есть."
   ]
  },
  {
   "cell_type": "code",
   "execution_count": 116,
   "id": "373c564a",
   "metadata": {},
   "outputs": [
    {
     "name": "stdout",
     "output_type": "stream",
     "text": [
      "«Адские свиньи» были всеядными, а предки бегемотов — травоядными \n",
      "\n",
      "\n",
      "\n",
      "\n",
      "\n",
      "\n",
      "\n",
      "\n",
      "Рис.1. Черепа энтелодонта Archaeotherium mortoni (D), антракотерия Paenanthracotherium bergeri (E) и нескольких современных млекопитающих: бурого медведя (A), кабана (B) и карликового бегемота (C). Изображение из обсуждаемой статьи\n",
      "\n",
      "На протяжении нескольких столетий развития палеонтологии реконструкция образа жизни ископаемых животных, недоступного для прямого изучения, оставалась одной из наиболее сложных задач. В основе ее решения лежал метод актуализма: кости и зубы ископаемых животных интерпретировались при сравнении с современными аналогами. Схожая структура тех или иных элементов рассматривалась как признак выполнения схожих функций. К сожалению, подобные интерпретации часто приводили различных исследователей к диаметрально противоположным выводам об одних и тех же животных. Так, яркие морфологические черты представителей семейства свиноподобных парнокопытных Entelodontidae, сочетающих в своем строении признаки, характерные для хищных и для растительноядных, интерпретировались разными авторами как адаптация к всеядности, питанию падалью и разгрызанию костей и даже к активной охоте на крупных растительноядных млекопитающих. Гротескный внешний вид и возможное хищничество легли в основу неформального названия энтелодонтов — «адские свиньи». Однако, как было показано в новом исследовании с использованием хорошо отработанного на современных млекопитающих метода изучения микроизноса зубов, рацион крупного европейского Entelodon magnus не был схож с рационом никакого из современных хищных.\n",
      "В совместном исследовании специалисты из России и Испании впервые изучили характер микроизноса зубов у представителей двух семейств ископаемых парнокопытных — антракотериев и энтелодонтов — в целях реконструкции их питания. Эти несколько десятков зубов были найдены на юге Франции в Окситании в фосфоритоносной формации Керси (см. Quercy Phosphorites Formation) и уже более века хранились в фондах Геологического музея им. В. И. Вернадского. Возраст изученных окаменелостей соответствует олигоценовой эпохе, которая началась 33,9 млн и закончилась 23 млн лет назад. Исследованные копытные представляют особый интерес, поскольку в традиционном понимании обе группы являются полностью вымершими.\n",
      "Антракотерии (Anthracotheriidae) — это семейство крупных растительноядных млекопитающих, обитавших в Северной Африке, Евразии, Северной и Центральной Америке с позднего эоцена до миоцена. Вероятно, именно от африканской ветви антракотериев происходят современные бегемоты, являющиеся, таким образом, рецентными (то есть современными в геологическом смысле) представителями семейства (см. F. Lihoreau et al., 2015. Hippos stem from the longest sequence of terrestrial cetartiodactyl evolution in Africa и J.-R. Boisserie et al., 2005. The position of Hippopotamidae within Cetartiodactyla). Находок антракотериев очень много — от совершенно фрагментарных (вроде отдельных зубов) до полных черепов и частичных скелетов. Внешний вид антракотериев имел схожие черты одновременно со свиньями и бегемотами. Это были средние и крупные по размеру копытные с очень короткими лапами, их передняя конечность была пятипалой, а задняя четырехпалой, боковые пальцы на ногах были хорошо развиты. Такие конечности являются даже более примитивными*, чем у свиней и бегемотов, у которых и передние, и задние лапы четырехпалые. У антракотериев была крупная голова с длинной и узкой лицевой частью черепа, полный набор зубов, характерный для примитивных плацентарных млекопитающих (три резца, клык, четыре предкоренных и три коренных зуба в каждой половинке верхней и нижней челюсти). Их резцы были крупные и похожи на резцы свиней (рис. 1). Щечные зубы были низкокоронковыми и часто бунодонтными (то есть бугорчатыми, именно такими зубами обладают люди), у некоторых продвинутых видов они становились более крупными, практически квадратными при виде сверху и селенодонтными (то есть имеющими режущие эмалевые гребни в виде полумесяцев, как у современных коз или коров).\n",
      "Семейство энтелодонты (Entelodontidae), или «адские свиньи» (hell pigs), хорошо известно в массовой культуре благодаря научно-популярному фильму Би-би-си 2001 года «Прогулки с чудовищами» (эпизод 3 “Land of Giants”, см. фрагмент) и художественному фильму 2001 года «Затерянный мир» по мотивам романа Конан Дойля — в обоих фильмах фигурируют представители рода энтелодоны (Entelodon), входящие в это семейство. Многие поздние представители семейства достигали крупных размеров, самые большие из них были размером с быка. Их ноги были довольно длинными, у поздних форм и передняя, и задняя конечность были двупалыми, что является редкостью даже среди высокоспециализированных к бегу парнокопытных. Эта группа была широко распространена в Евразии и Северной Америке в олигоцене, но полностью вымерла в раннем миоцене. Их поразительный внешний вид характеризовался огромной головой (до 90 см в длину у представителей рода Daeodon, см. картинку дня Свинья-терминатор), как на черепе, так и на нижней челюсти у них были многочисленные выросты и бугры. Энтелодонты сохранили полный набор зубов, их резцы и клыки были очень крупными, предкоренные зубы были треугольными при виде сбоку, коренные зубы были достаточно небольшими, низкокоронковыми и бунодонтными (рис. 1). Череп и нижняя челюсть у энтелодонтов имели несколько признаков, характерных для хищных (мощный сагиттальный гребень, большие височные окна для жевательной мускулатуры, положение суставного бугра на нижней челюсти на уровне зубного ряда, треугольные при виде сбоку предкоренные зубы). Эти особенности легли в основу реконструкций энтелодонтов как падальщиков (наподобие гиен), способных разгрызать кости, или даже активных хищников.\n",
      "\n",
      "\n",
      "\n",
      "\n",
      "\n",
      "\n",
      "\n",
      "\n",
      "Рис. 2. Ископаемые зубы антракотериев (A–I) и энтелодонтов (J–R), у которых изучался характер повреждений эмали. Изображение из обсуждаемой статьи\n",
      "\n",
      "Чтобы разгадать, что ели эти примитивные парнокопытные, ученые применили широко отработанный на современных млекопитающих метод анализа микроизноса эмали зубов. Этот подход основан на подсчете числа микроповреждений эмали на жевательной поверхности зубов (рис. 3). При изучении образца подсчитывается число царапин, ямок и сколов на единицу площади, а также оценивается размер повреждений. Характер микроповреждений зубной эмали показывает характер питания животных в последние недели и дни перед смертью. Этот паттерн сильно отличается в зависимости от потребляемой пищи, что позволяет различать млекопитающих, специализирующихся на различных источниках пищи. Так, при переходе от питания ветками и листьями к поеданию травы у копытных существенно возрастает число царапин на эмали, что связано с содержанием в траве большого количества кремневых элементов (фитолитов, см. Phytolith). Микроизнос хищных млекопитающих характеризуется существенно большим, чем у растительноядных, числом ямок на единицу площади поверхности эмали. Некоторые качественные характеристики повреждений (например, перекрещенные царапины или ямки-проколы) являются индикаторами присутствия в рационе конкретных видов пищи (фруктов, веток, костей).\n",
      "\n",
      "\n",
      "\n",
      "\n",
      "\n",
      "\n",
      "\n",
      "\n",
      "Рис. 3. Сравнение микрофотографий поверхности эмали Anthracotherium sp. (вверху) и Entelodon magnus. Изображение из обсуждаемой статьи\n",
      "\n",
      "Исследователи выделили 10 категорий среди современных копытных и хищных, занимающих различные экологические ниши и специализирующихся на разнообразных источниках пищи, что по-разному отражается на характере износа их зубов. Это (1) всеядные (свинья, кабан и бурый медведь), (2) специализированные мясоеды (гепард и лев), (3) поедание мяса и разгрызание костей (гиены), (4) хищники с широким разнообразием кормов (лисица), (5) смешанное хищничество / фруктоядение (обыкновенная генетта и пальмовая циветта), (6) рыбоядные (выдра), (7) листоядные (лось, жираф и др.), (8) фруктоядные / листоядные (различные дукеры), (9) травоядные (бизон, зебра и др.), (10) травоядные / полуводные (обыкновенный бегемот).\n",
      "В результате исследования был впервые изучен характер микроизноса зубов у энтелодонта (рис. 2, 3). На основе анализа полученных данных было показано, что крупный европейский Entelodon magnus был всеядным млекопитающим, причем характер микроизноса эмали его зубов практически идентичен современному кабану (Sus scrofa) и несколько отличается от бурого медведя (Ursus arctos). Кроме того, изученные пять особей энтелодона сильно отличаются по характеру износа зубов от любых «чистых» хищников или растительноядных. Источники пищи у современных свиней крайне разнообразны и сильно варьируют в зависимости от места обитания и сезона. Современные свиньи питаются свежими зелеными травами, суккулентами, бобовыми, фруктами, желудями, семенами, корнями, луковицами, корой, грибами, беспозвоночными (червями, моллюсками, жуками), рыбой, лягушками, рептилиями, мелкими птицами, грызунами, новорожденными или ранеными млекопитающими и трупами, а также яйцами гнездящихся на земле птиц и рептилий. Весьма вероятно, что подобная пластичность в питании была характерна и для «адских свиней».\n",
      "В отличие от энтелодона, изученные антракотерии оказались растительноядными животными (рис. 2, 3). Их паттерн микроизноса характеризовался существенно большим числом ямок и сколов, более широкими царапинами с присутствием царапин с неровными краями, а также меньшим числом перекрещенных царапин и ямок-проколов, чем у Entelodon magnus. Примерно половина изученных особей (всего их было тринадцать), принадлежащих к роду Anthracotherium, характеризовалась листоядной диетой, четверть — листоядной + фруктоядной и еще четверть — травоядной. Такое разнообразие рациона могло быть связано с сезонными вариациями в питании.\n",
      "Отклонение от всеядности в сторону листо- и травоядности у антракотериев соответствует повышенной (по сравнению со свиньями и энтелодонтами) сложности строения жевательной поверхности их коренных зубов, на которой появляются режущие эмалевые гребни в виде полумесяцев. Эти сдвиги в характере питания и морфологии зубов у антракотериев могут указывать на усложнение пищеварительной системы. Обработка еды в пищеварительном тракте зависит от ее качества. Если еда содержит большую долю легкоусвояемых компонентов (сахара, крахмал и белки), то предпочтительным является ее переваривание. Это характерно для всеядных животных, включая свиней, у которых нет сложного желудка, характерного для большинства современных парнокопытных, а также могло быть характерно для энтелодонтов. Напротив, если еда содержит мало перевариваемого материала и высокую долю целлюлозы, то для растительноядных млекопитающих появляется необходимость к ее ферментации. Это связано с тем, что целлюлоза не может быть переварена ни одним из ферментов, выделяемых пищеварительной системой млекопитающих. Именно по этой причине у различных травоядных млекопитающих появляются специальные камеры для бактериальной ферментации целлюлозы. У парнокопытных эти камеры представлены сложным желудком. Таким образом, характер питания у представителей рода Anthracotherium может указывать на наличие дополнительных камер в сложном желудке, как и у большинства современных парнокопытных.\n",
      "Источник: Florent Rivals, Ruslan I. Belyaev, Vera B. Basova, Natalya E. Prilepskaya. Hogs, hippos or bears? Paleodiet of European Oligocene anthracotheres and entelodonts // Palaeogeography, Palaeoclimatology, Palaeoecology. 2023. V. 611, 111363. P. 1–9. https://doi.org/10.1016/j.palaeo.2022.111363.\n",
      "Руслан Беляев, Наталья Прилепская\n",
      "\n",
      "* В процессе эволюции копытные активно теряют «лишние» пальцы: исходно у млекопитающих было пять пальцев, у свиньи их четыре, у носорога три, у жирафа два, у лошади один. Процесс редукции лучей в конечности очень долгий, и количество пальцев, наряду с другими анатомическими параметрами, указывает на эволюционную продвинутость тех или иных копытных.\n",
      "\n"
     ]
    }
   ],
   "source": [
    "user_agent = UserAgent().chrome\n",
    "\n",
    "url = \"https://elementy.ru/novosti_nauki/434110/Adskie_svini_byli_vseyadnymi_a_predki_begemotov_travoyadnymi\"\n",
    "response = requests.get(url, headers={'User-Agent':user_agent})\n",
    "news_block = response.text\n",
    "soup = BeautifulSoup(news_block, \"html.parser\")\n",
    "\n",
    "article_meta_info = soup.find(class_=\"mb itemhead newslist\").text.split(\"•\")\n",
    "# костыль, но что поделать, иначе код совсем непонятен или заголовок тянет за собой всякую метаинформационную бурду\n",
    "article_title = article_meta_info[0].split(\"\\n\")[0] # заголовок статьи\n",
    "article_text = soup.find(class_=\"memo\").text # текст статьи\n",
    "\n",
    "print(article_title, article_text)"
   ]
  },
  {
   "cell_type": "markdown",
   "id": "b87c85b6",
   "metadata": {},
   "source": [
    "Сохраняем в файл, если вдруг пригодится. Между заголовком и текстом и без того гора переносов так что записываем их в файл как единую форматированную строку без дополнительных символов между ними."
   ]
  },
  {
   "cell_type": "code",
   "execution_count": 117,
   "id": "f3b92fde",
   "metadata": {},
   "outputs": [],
   "source": [
    "with open(\"News_text.txt\", \"w\", encoding=\"utf-8\") as file:\n",
    "    file.write(f\"{article_title}{article_text}\")"
   ]
  },
  {
   "cell_type": "markdown",
   "id": "85b11be9",
   "metadata": {},
   "source": [
    "# Selenium (новостная статья)"
   ]
  },
  {
   "cell_type": "markdown",
   "id": "a469fa16",
   "metadata": {},
   "source": [
    "Вытащить заголовок по имени класса не вышло, значит, я делаю вывод, что Selenium работает с элементами более глубоко расположенными в структуре страницы по сравнению с BeautifulSoup. Поскольку к заголовку ближе тег h1, css-селектор, задающий размер заголовка, ищу именно таким способом.\n",
    "\n",
    "Текст по классу нашелся, ничего менять не стала."
   ]
  },
  {
   "cell_type": "code",
   "execution_count": 118,
   "id": "ee8b69ca",
   "metadata": {},
   "outputs": [
    {
     "name": "stdout",
     "output_type": "stream",
     "text": [
      "«Адские свиньи» были всеядными, а предки бегемотов — травоядными\n",
      "\n",
      "Рис.1. Черепа энтелодонта Archaeotherium mortoni (D), антракотерия Paenanthracotherium bergeri (E) и нескольких современных млекопитающих: бурого медведя (A), кабана (B) и карликового бегемота (C). Изображение из обсуждаемой статьи\n",
      "На протяжении нескольких столетий развития палеонтологии реконструкция образа жизни ископаемых животных, недоступного для прямого изучения, оставалась одной из наиболее сложных задач. В основе ее решения лежал метод актуализма: кости и зубы ископаемых животных интерпретировались при сравнении с современными аналогами. Схожая структура тех или иных элементов рассматривалась как признак выполнения схожих функций. К сожалению, подобные интерпретации часто приводили различных исследователей к диаметрально противоположным выводам об одних и тех же животных. Так, яркие морфологические черты представителей семейства свиноподобных парнокопытных Entelodontidae, сочетающих в своем строении признаки, характерные для хищных и для растительноядных, интерпретировались разными авторами как адаптация к всеядности, питанию падалью и разгрызанию костей и даже к активной охоте на крупных растительноядных млекопитающих. Гротескный внешний вид и возможное хищничество легли в основу неформального названия энтелодонтов — «адские свиньи». Однако, как было показано в новом исследовании с использованием хорошо отработанного на современных млекопитающих метода изучения микроизноса зубов, рацион крупного европейского Entelodon magnus не был схож с рационом никакого из современных хищных.\n",
      "В совместном исследовании специалисты из России и Испании впервые изучили характер микроизноса зубов у представителей двух семейств ископаемых парнокопытных — антракотериев и энтелодонтов — в целях реконструкции их питания. Эти несколько десятков зубов были найдены на юге Франции в Окситании в фосфоритоносной формации Керси (см. Quercy Phosphorites Formation) и уже более века хранились в фондах Геологического музея им. В. И. Вернадского. Возраст изученных окаменелостей соответствует олигоценовой эпохе, которая началась 33,9 млн и закончилась 23 млн лет назад. Исследованные копытные представляют особый интерес, поскольку в традиционном понимании обе группы являются полностью вымершими.\n",
      "Антракотерии (Anthracotheriidae) — это семейство крупных растительноядных млекопитающих, обитавших в Северной Африке, Евразии, Северной и Центральной Америке с позднего эоцена до миоцена. Вероятно, именно от африканской ветви антракотериев происходят современные бегемоты, являющиеся, таким образом, рецентными (то есть современными в геологическом смысле) представителями семейства (см. F. Lihoreau et al., 2015. Hippos stem from the longest sequence of terrestrial cetartiodactyl evolution in Africa и J.-R. Boisserie et al., 2005. The position of Hippopotamidae within Cetartiodactyla). Находок антракотериев очень много — от совершенно фрагментарных (вроде отдельных зубов) до полных черепов и частичных скелетов. Внешний вид антракотериев имел схожие черты одновременно со свиньями и бегемотами. Это были средние и крупные по размеру копытные с очень короткими лапами, их передняя конечность была пятипалой, а задняя четырехпалой, боковые пальцы на ногах были хорошо развиты. Такие конечности являются даже более примитивными*, чем у свиней и бегемотов, у которых и передние, и задние лапы четырехпалые. У антракотериев была крупная голова с длинной и узкой лицевой частью черепа, полный набор зубов, характерный для примитивных плацентарных млекопитающих (три резца, клык, четыре предкоренных и три коренных зуба в каждой половинке верхней и нижней челюсти). Их резцы были крупные и похожи на резцы свиней (рис. 1). Щечные зубы были низкокоронковыми и часто бунодонтными (то есть бугорчатыми, именно такими зубами обладают люди), у некоторых продвинутых видов они становились более крупными, практически квадратными при виде сверху и селенодонтными (то есть имеющими режущие эмалевые гребни в виде полумесяцев, как у современных коз или коров).\n",
      "Семейство энтелодонты (Entelodontidae), или «адские свиньи» (hell pigs), хорошо известно в массовой культуре благодаря научно-популярному фильму Би-би-си 2001 года «Прогулки с чудовищами» (эпизод 3 “Land of Giants”, см. фрагмент) и художественному фильму 2001 года «Затерянный мир» по мотивам романа Конан Дойля — в обоих фильмах фигурируют представители рода энтелодоны (Entelodon), входящие в это семейство. Многие поздние представители семейства достигали крупных размеров, самые большие из них были размером с быка. Их ноги были довольно длинными, у поздних форм и передняя, и задняя конечность были двупалыми, что является редкостью даже среди высокоспециализированных к бегу парнокопытных. Эта группа была широко распространена в Евразии и Северной Америке в олигоцене, но полностью вымерла в раннем миоцене. Их поразительный внешний вид характеризовался огромной головой (до 90 см в длину у представителей рода Daeodon, см. картинку дня Свинья-терминатор), как на черепе, так и на нижней челюсти у них были многочисленные выросты и бугры. Энтелодонты сохранили полный набор зубов, их резцы и клыки были очень крупными, предкоренные зубы были треугольными при виде сбоку, коренные зубы были достаточно небольшими, низкокоронковыми и бунодонтными (рис. 1). Череп и нижняя челюсть у энтелодонтов имели несколько признаков, характерных для хищных (мощный сагиттальный гребень, большие височные окна для жевательной мускулатуры, положение суставного бугра на нижней челюсти на уровне зубного ряда, треугольные при виде сбоку предкоренные зубы). Эти особенности легли в основу реконструкций энтелодонтов как падальщиков (наподобие гиен), способных разгрызать кости, или даже активных хищников.\n",
      "Рис. 2. Ископаемые зубы антракотериев (A–I) и энтелодонтов (J–R), у которых изучался характер повреждений эмали. Изображение из обсуждаемой статьи\n",
      "Чтобы разгадать, что ели эти примитивные парнокопытные, ученые применили широко отработанный на современных млекопитающих метод анализа микроизноса эмали зубов. Этот подход основан на подсчете числа микроповреждений эмали на жевательной поверхности зубов (рис. 3). При изучении образца подсчитывается число царапин, ямок и сколов на единицу площади, а также оценивается размер повреждений. Характер микроповреждений зубной эмали показывает характер питания животных в последние недели и дни перед смертью. Этот паттерн сильно отличается в зависимости от потребляемой пищи, что позволяет различать млекопитающих, специализирующихся на различных источниках пищи. Так, при переходе от питания ветками и листьями к поеданию травы у копытных существенно возрастает число царапин на эмали, что связано с содержанием в траве большого количества кремневых элементов (фитолитов, см. Phytolith). Микроизнос хищных млекопитающих характеризуется существенно большим, чем у растительноядных, числом ямок на единицу площади поверхности эмали. Некоторые качественные характеристики повреждений (например, перекрещенные царапины или ямки-проколы) являются индикаторами присутствия в рационе конкретных видов пищи (фруктов, веток, костей).\n",
      "Рис. 3. Сравнение микрофотографий поверхности эмали Anthracotherium sp. (вверху) и Entelodon magnus. Изображение из обсуждаемой статьи\n",
      "Исследователи выделили 10 категорий среди современных копытных и хищных, занимающих различные экологические ниши и специализирующихся на разнообразных источниках пищи, что по-разному отражается на характере износа их зубов. Это (1) всеядные (свинья, кабан и бурый медведь), (2) специализированные мясоеды (гепард и лев), (3) поедание мяса и разгрызание костей (гиены), (4) хищники с широким разнообразием кормов (лисица), (5) смешанное хищничество / фруктоядение (обыкновенная генетта и пальмовая циветта), (6) рыбоядные (выдра), (7) листоядные (лось, жираф и др.), (8) фруктоядные / листоядные (различные дукеры), (9) травоядные (бизон, зебра и др.), (10) травоядные / полуводные (обыкновенный бегемот).\n",
      "В результате исследования был впервые изучен характер микроизноса зубов у энтелодонта (рис. 2, 3). На основе анализа полученных данных было показано, что крупный европейский Entelodon magnus был всеядным млекопитающим, причем характер микроизноса эмали его зубов практически идентичен современному кабану (Sus scrofa) и несколько отличается от бурого медведя (Ursus arctos). Кроме того, изученные пять особей энтелодона сильно отличаются по характеру износа зубов от любых «чистых» хищников или растительноядных. Источники пищи у современных свиней крайне разнообразны и сильно варьируют в зависимости от места обитания и сезона. Современные свиньи питаются свежими зелеными травами, суккулентами, бобовыми, фруктами, желудями, семенами, корнями, луковицами, корой, грибами, беспозвоночными (червями, моллюсками, жуками), рыбой, лягушками, рептилиями, мелкими птицами, грызунами, новорожденными или ранеными млекопитающими и трупами, а также яйцами гнездящихся на земле птиц и рептилий. Весьма вероятно, что подобная пластичность в питании была характерна и для «адских свиней».\n",
      "В отличие от энтелодона, изученные антракотерии оказались растительноядными животными (рис. 2, 3). Их паттерн микроизноса характеризовался существенно большим числом ямок и сколов, более широкими царапинами с присутствием царапин с неровными краями, а также меньшим числом перекрещенных царапин и ямок-проколов, чем у Entelodon magnus. Примерно половина изученных особей (всего их было тринадцать), принадлежащих к роду Anthracotherium, характеризовалась листоядной диетой, четверть — листоядной + фруктоядной и еще четверть — травоядной. Такое разнообразие рациона могло быть связано с сезонными вариациями в питании.\n",
      "Отклонение от всеядности в сторону листо- и травоядности у антракотериев соответствует повышенной (по сравнению со свиньями и энтелодонтами) сложности строения жевательной поверхности их коренных зубов, на которой появляются режущие эмалевые гребни в виде полумесяцев. Эти сдвиги в характере питания и морфологии зубов у антракотериев могут указывать на усложнение пищеварительной системы. Обработка еды в пищеварительном тракте зависит от ее качества. Если еда содержит большую долю легкоусвояемых компонентов (сахара, крахмал и белки), то предпочтительным является ее переваривание. Это характерно для всеядных животных, включая свиней, у которых нет сложного желудка, характерного для большинства современных парнокопытных, а также могло быть характерно для энтелодонтов. Напротив, если еда содержит мало перевариваемого материала и высокую долю целлюлозы, то для растительноядных млекопитающих появляется необходимость к ее ферментации. Это связано с тем, что целлюлоза не может быть переварена ни одним из ферментов, выделяемых пищеварительной системой млекопитающих. Именно по этой причине у различных травоядных млекопитающих появляются специальные камеры для бактериальной ферментации целлюлозы. У парнокопытных эти камеры представлены сложным желудком. Таким образом, характер питания у представителей рода Anthracotherium может указывать на наличие дополнительных камер в сложном желудке, как и у большинства современных парнокопытных.\n",
      "Источник: Florent Rivals, Ruslan I. Belyaev, Vera B. Basova, Natalya E. Prilepskaya. Hogs, hippos or bears? Paleodiet of European Oligocene anthracotheres and entelodonts // Palaeogeography, Palaeoclimatology, Palaeoecology. 2023. V. 611, 111363. P. 1–9. https://doi.org/10.1016/j.palaeo.2022.111363.\n",
      "Руслан Беляев, Наталья Прилепская\n",
      "* В процессе эволюции копытные активно теряют «лишние» пальцы: исходно у млекопитающих было пять пальцев, у свиньи их четыре, у носорога три, у жирафа два, у лошади один. Процесс редукции лучей в конечности очень долгий, и количество пальцев, наряду с другими анатомическими параметрами, указывает на эволюционную продвинутость тех или иных копытных.\n"
     ]
    }
   ],
   "source": [
    "browser = webdriver.Chrome()\n",
    "browser.get('https://elementy.ru/novosti_nauki/434110/Adskie_svini_byli_vseyadnymi_a_predki_begemotov_travoyadnymi') # передаем объекту класса Chrome WebDriver ссылку\n",
    "news_title = browser.find_element(By.CSS_SELECTOR, 'h1').text\n",
    "news_text = browser.find_element(By.CLASS_NAME, 'memo').text\n",
    "print(f\"{news_title}\\n\\n{news_text}\") "
   ]
  },
  {
   "cell_type": "code",
   "execution_count": 119,
   "id": "dfb996de",
   "metadata": {},
   "outputs": [],
   "source": [
    "with open(\"News_text_alternative.txt\", \"w\", encoding=\"utf-8\") as file:\n",
    "    file.write(f\"{news_title}\\n\\n{news_text}\")"
   ]
  },
  {
   "cell_type": "markdown",
   "id": "5fc1df1b",
   "metadata": {},
   "source": [
    "# Вывод\n",
    "На всякий случай выскажу мнение. Кажется, Selenium лучше подходит для создания краулеров, поскольку он более гибкий и простой (это заметно даже исходя из разницы в объеме кода для requests+BeautifulSoup и для Selenium). К тому же, Selenium сам открывает окно с необходимой ссылкой, что удобно (и вообще Selenium супер, потому что умеет, например, самостоятельно крутить страничку вниз, если ему сказать). В плане разницы полученных текстов, можно сказать, что Selenium гораздо лучше справляется с бессмысленными пустотами в тексте и лишними переносами на новую строку. В общем, Selenium супер. Единственная проблема, при работе с ним, судя по всему, надо докапываться до более глубоко вложенных тегов (но это только предположение на основе новостной статьи).\n",
    "\n",
    "Однако и requests+BeautifulSoup $-$ сочетание со своими достоинствами, например, оно работает немного быстрее в этом конкретном задании."
   ]
  },
  {
   "cell_type": "code",
   "execution_count": null,
   "id": "13d198c8",
   "metadata": {},
   "outputs": [],
   "source": []
  }
 ],
 "metadata": {
  "kernelspec": {
   "display_name": "Python 3 (ipykernel)",
   "language": "python",
   "name": "python3"
  },
  "language_info": {
   "codemirror_mode": {
    "name": "ipython",
    "version": 3
   },
   "file_extension": ".py",
   "mimetype": "text/x-python",
   "name": "python",
   "nbconvert_exporter": "python",
   "pygments_lexer": "ipython3",
   "version": "3.9.13"
  }
 },
 "nbformat": 4,
 "nbformat_minor": 5
}
