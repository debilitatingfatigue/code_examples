{
 "cells": [
  {
   "cell_type": "markdown",
   "id": "4c5b2022",
   "metadata": {},
   "source": [
    "# ДЗ3 Анна Головина группа БКЛ213"
   ]
  },
  {
   "cell_type": "markdown",
   "id": "147adc19",
   "metadata": {},
   "source": [
    "Чтобы в дальнейшем не искать нужные ячейки с импортом нужных модулей, прописываю в первой же ячейке все необходимые импорты. Здесь модули, которые нужны для всех заданий."
   ]
  },
  {
   "cell_type": "code",
   "execution_count": 3,
   "id": "be337ad7",
   "metadata": {},
   "outputs": [],
   "source": [
    "from matplotlib import pyplot as plt\n",
    "import pandas as pd\n",
    "import sqlite3"
   ]
  },
  {
   "cell_type": "markdown",
   "id": "f4d97866",
   "metadata": {},
   "source": [
    "# Первое задание"
   ]
  },
  {
   "cell_type": "markdown",
   "id": "79b59cdc",
   "metadata": {},
   "source": [
    "Поскольку у меня на компьютере нет памяти для установки читалок баз данных, мне проще кодом вытащить всю необходимую информацию. Запросы в маркдаун прописала перед ячейкой с кодом к кадому подпункту, так что и задание выполнила, и код с результатом работы показала. Начинаем с подключения к базе данных."
   ]
  },
  {
   "cell_type": "code",
   "execution_count": 4,
   "id": "a53ce195",
   "metadata": {},
   "outputs": [],
   "source": [
    "con = sqlite3.connect(\"imdb_small_indexed.db\")\n",
    "cur = con.cursor()"
   ]
  },
  {
   "cell_type": "markdown",
   "id": "26ced53b",
   "metadata": {},
   "source": [
    "Дальше я хочу посмотреть, насколько в целом адекватно открывается база данных и что она показывает мне, например, в таблице *titles*."
   ]
  },
  {
   "cell_type": "code",
   "execution_count": 9,
   "id": "6238ac78",
   "metadata": {},
   "outputs": [],
   "source": [
    "sample_query = \"\"\"\n",
    "SELECT *\n",
    "FROM titles\n",
    "\"\"\""
   ]
  },
  {
   "cell_type": "code",
   "execution_count": 10,
   "id": "2b672da0",
   "metadata": {},
   "outputs": [
    {
     "name": "stdout",
     "output_type": "stream",
     "text": [
      "(9, 1, 'Miss Jerry', 0, 1894, None, 45)\n"
     ]
    }
   ],
   "source": [
    "sample = cur.execute(sample_query).fetchone()\n",
    "print(sample)"
   ]
  },
  {
   "cell_type": "markdown",
   "id": "9ed8d8c0",
   "metadata": {},
   "source": [
    "*1. С помощью запроса выберите фильмы ранее 2018 года*\n",
    "\n",
    "Допустим, ранее не включая 2018, так что неравенство строгое.\n",
    "\n",
    "Запрос: \"\"\"\n",
    "SELECT title\n",
    "FROM titles \n",
    "WHERE premiered < 2018\n",
    "\"\"\""
   ]
  },
  {
   "cell_type": "code",
   "execution_count": 5,
   "id": "00e779b8",
   "metadata": {},
   "outputs": [],
   "source": [
    "year_query = \"\"\"\n",
    "SELECT title, premiered\n",
    "FROM titles \n",
    "WHERE premiered < 2018\n",
    "\"\"\""
   ]
  },
  {
   "cell_type": "code",
   "execution_count": 7,
   "id": "b1a2296c",
   "metadata": {},
   "outputs": [
    {
     "name": "stdout",
     "output_type": "stream",
     "text": [
      "Название фильма: Miss Jerry; год: 1894\n"
     ]
    }
   ],
   "source": [
    "print(f\"Название фильма: {cur.execute(year_query).fetchone()[0]}; год: {cur.execute(year_query).fetchone()[1]}\")"
   ]
  },
  {
   "cell_type": "markdown",
   "id": "62a4eda1",
   "metadata": {},
   "source": [
    "*2. 50 самых популярных фильмов (по кол-ву оценок)*\n",
    "\n",
    "**Небольшое замечание на полях:** во всех джоинах я писала AS и далее сокращенное имя таблицы (это чтобы код слишком размашистым не получился и по pep8 все прилично было)\n",
    "\n",
    "Запрос: \"\"\"\n",
    "SELECT t.title, votes, r.title_id\n",
    "FROM rating AS r\n",
    "    JOIN titles AS t ON t.title_id = r.title_id\n",
    "ORDER BY votes DESC\n",
    "LIMIT 50\n",
    "\"\"\""
   ]
  },
  {
   "cell_type": "code",
   "execution_count": 74,
   "id": "231433ec",
   "metadata": {},
   "outputs": [],
   "source": [
    "popular_query = \"\"\"\n",
    "SELECT t.title, votes, r.title_id\n",
    "FROM rating AS r\n",
    "    JOIN titles AS t ON t.title_id = r.title_id\n",
    "ORDER BY votes DESC\n",
    "LIMIT 50\n",
    "\"\"\""
   ]
  },
  {
   "cell_type": "code",
   "execution_count": 75,
   "id": "64988ace",
   "metadata": {},
   "outputs": [
    {
     "name": "stdout",
     "output_type": "stream",
     "text": [
      "№1: The Shawshank Redemption; голоса: 2296829\n",
      "№2: The Dark Knight; голоса: 2261286\n",
      "№3: Inception; голоса: 2023295\n",
      "№4: Fight Club; голоса: 1820822\n",
      "№5: Pulp Fiction; голоса: 1793495\n",
      "№6: Forrest Gump; голоса: 1769908\n",
      "№7: Game of Thrones; голоса: 1717079\n",
      "№8: The Matrix; голоса: 1644392\n",
      "№9: The Lord of the Rings: The Fellowship of the Ring; голоса: 1630562\n",
      "№10: The Lord of the Rings: The Return of the King; голоса: 1614816\n",
      "№11: The Godfather; голоса: 1585284\n",
      "№12: The Dark Knight Rises; голоса: 1491705\n",
      "№13: Interstellar; голоса: 1469113\n",
      "№14: The Lord of the Rings: The Two Towers; голоса: 1459562\n",
      "№15: Se7en; голоса: 1414682\n",
      "№16: Breaking Bad; голоса: 1405401\n",
      "№17: Django Unchained; голоса: 1329151\n",
      "№18: Gladiator; голоса: 1317472\n",
      "№19: Batman Begins; голоса: 1287563\n",
      "№20: The Avengers; голоса: 1246700\n",
      "№21: The Silence of the Lambs; голоса: 1245277\n",
      "№22: Inglourious Basterds; голоса: 1239945\n",
      "№23: Saving Private Ryan; голоса: 1213135\n",
      "№24: Star Wars: Episode IV - A New Hope; голоса: 1211331\n",
      "№25: Schindler's List; голоса: 1192150\n",
      "№26: The Departed; голоса: 1168096\n",
      "№27: The Prestige; голоса: 1165761\n",
      "№28: The Wolf of Wall Street; голоса: 1153213\n",
      "№29: Star Wars: Episode V - The Empire Strikes Back; голоса: 1139605\n",
      "№30: The Green Mile; голоса: 1122710\n",
      "№31: The Godfather: Part II; голоса: 1107605\n",
      "№32: Memento; голоса: 1107601\n",
      "№33: Avatar; голоса: 1106088\n",
      "№34: Shutter Island; голоса: 1105850\n",
      "№35: American Beauty; голоса: 1054942\n",
      "№36: Back to the Future; голоса: 1036582\n",
      "№37: Titanic; голоса: 1029053\n",
      "№38: Guardians of the Galaxy; голоса: 1029048\n",
      "№39: American History X; голоса: 1020261\n",
      "№40: V for Vendetta; голоса: 1016075\n",
      "№41: Léon: The Professional; голоса: 1015699\n",
      "№42: Pirates of the Caribbean: The Curse of the Black Pearl; голоса: 1005123\n",
      "№43: Goodfellas; голоса: 999954\n",
      "№44: Kill Bill: Vol. 1; голоса: 984171\n",
      "№45: WALL·E; голоса: 981546\n",
      "№46: Terminator 2: Judgment Day; голоса: 981233\n",
      "№47: The Usual Suspects; голоса: 975583\n",
      "№48: Braveheart; голоса: 946674\n",
      "№49: Star Wars: Episode VI - Return of the Jedi; голоса: 934060\n",
      "№50: Finding Nemo; голоса: 934018\n"
     ]
    }
   ],
   "source": [
    "top_by_votes = [item for item in cur.execute(popular_query).fetchall()]\n",
    "for i in range(len(top_by_votes)):\n",
    "    print(f\"№{i+1}: {top_by_votes[i][0]}; голоса: {top_by_votes[i][1]}\")"
   ]
  },
  {
   "cell_type": "markdown",
   "id": "ef2ced0a",
   "metadata": {},
   "source": [
    "*3. 10 самых популярных (по кол-ву оценок и с рейтингом >= 7) комедий 2019 года*\n",
    "\n",
    "Запрос:  \"\"\"\n",
    "SELECT title\n",
    "FROM rating AS r\n",
    "    JOIN titles AS t ON r.title_id = t.title_id\n",
    "    JOIN film_genres AS fg ON r.title_id = fg.title_id\n",
    "    JOIN genre_types AS gt ON fg.genre_id = gt.id\n",
    "WHERE rating >= 7 AND premiered = 2019 AND genre_name = \"Comedy\"\n",
    "ORDER BY votes DESC\n",
    "LIMIT 10\n",
    "\"\"\""
   ]
  },
  {
   "cell_type": "code",
   "execution_count": 110,
   "id": "fcd8ddef",
   "metadata": {},
   "outputs": [],
   "source": [
    "vote_rat_query = \"\"\"\n",
    "SELECT title\n",
    "FROM rating AS r\n",
    "    JOIN titles AS t ON r.title_id = t.title_id\n",
    "    JOIN film_genres AS fg ON r.title_id = fg.title_id\n",
    "    JOIN genre_types AS gt ON fg.genre_id = gt.id\n",
    "WHERE rating >= 7 AND premiered = 2019 AND genre_name = \"Comedy\"\n",
    "ORDER BY votes DESC\n",
    "LIMIT 10\n",
    "\"\"\""
   ]
  },
  {
   "cell_type": "code",
   "execution_count": 111,
   "id": "e1e58768",
   "metadata": {},
   "outputs": [
    {
     "name": "stdout",
     "output_type": "stream",
     "text": [
      "№1: Once Upon a Time... In Hollywood\n",
      "№2: Parasite\n",
      "№3: Knives Out\n",
      "№4: Jojo Rabbit\n",
      "№5: Shazam!\n",
      "№6: Marriage Story\n",
      "№7: The Boys\n",
      "№8: The Gentlemen\n",
      "№9: Toy Story 4\n",
      "№10: Sex Education\n"
     ]
    }
   ],
   "source": [
    "top_comedies = [item for item in cur.execute(vote_rat_query).fetchall()]\n",
    "for i in range(len(top_comedies)):\n",
    "    print(f\"№{i+1}: {top_comedies[i][0]}\")"
   ]
  }
 ],
 "metadata": {
  "kernelspec": {
   "display_name": "Python 3 (ipykernel)",
   "language": "python",
   "name": "python3"
  },
  "language_info": {
   "codemirror_mode": {
    "name": "ipython",
    "version": 3
   },
   "file_extension": ".py",
   "mimetype": "text/x-python",
   "name": "python",
   "nbconvert_exporter": "python",
   "pygments_lexer": "ipython3",
   "version": "3.9.13"
  }
 },
 "nbformat": 4,
 "nbformat_minor": 5
}
