{
 "cells": [
  {
   "cell_type": "markdown",
   "id": "345ec2e0",
   "metadata": {},
   "source": [
    "# ДЗ2 Анна Головина группа БКЛ213"
   ]
  },
  {
   "cell_type": "markdown",
   "id": "6812203e",
   "metadata": {},
   "source": [
    "*в некоторых ячейках код может выглядеть неожиданно крупным по количеству строк, но это все из-за форматирования по pep8*"
   ]
  },
  {
   "cell_type": "markdown",
   "id": "7f5ee10e",
   "metadata": {},
   "source": [
    "Чтобы в дальнейшем не искать нужные ячейки с импортом нужных модулей, прописываю в первой же ячейке все необходимые импорты. Здесь модули, которые нужны для всех заданий."
   ]
  },
  {
   "cell_type": "code",
   "execution_count": 52,
   "id": "8b5c0dfa",
   "metadata": {},
   "outputs": [],
   "source": [
    "import gensim\n",
    "import matplotlib.pyplot as plt\n",
    "from nltk.corpus import stopwords\n",
    "from nltk import tokenize\n",
    "from nltk.tokenize import wordpunct_tokenize, sent_tokenize\n",
    "import numpy as np\n",
    "import os\n",
    "from pymorphy2 import MorphAnalyzer\n",
    "from sklearn.decomposition import PCA\n",
    "from sklearn.feature_extraction.text import TfidfVectorizer\n",
    "import warnings\n",
    "warnings.filterwarnings('ignore')\n",
    "import wikipedia\n",
    "import zipfile36\n",
    "%matplotlib inline"
   ]
  },
  {
   "cell_type": "markdown",
   "id": "acfd94f6",
   "metadata": {},
   "source": [
    "# Первое задание"
   ]
  },
  {
   "cell_type": "markdown",
   "id": "ecac7dc4",
   "metadata": {},
   "source": [
    "Я решила взять 15 книг Солженицына (все, какие нашла на *lib.ru* и какие были крупнее рассказа).\n",
    "\n",
    "В папке на своем рабочем столе, где лежат скачанные файлы с книгами, циклом вытаскиваю текст из каждого файла.\n",
    "\n",
    "Токенизация происходит по предложениям. Обрабатывая каждое предложение, собираю список лемм, и при этом слежу, чтобы это было именно слово, а не число или знак препинания, а также чтобы слово не входило в список стоп-слов (к сожалению, некоторые предлоги все равно остались, потому что stopwords в nltk.corpus включает далеко не всё). Список лемм объединяется, и все токены разделяются пробелами. Каждое предложение записывается в файл на новой строке.\n",
    "\n",
    "Файл *\"lemmas.txt\"*, полученный в результате работы ячейки, содержит леммы по соответствующим предложениям (каждое с новой строки) без знаков препинания и прочих небуквенных строк, а также без служебных слов, входящих в список nltk.\n",
    "\n",
    "Анализатор и стоп-слова выношу в отдельную ячейку, так как они понадобятся и при запуске ячеек из последующих заданий."
   ]
  },
  {
   "cell_type": "code",
   "execution_count": 11,
   "id": "5376d18b",
   "metadata": {},
   "outputs": [],
   "source": [
    "morph = MorphAnalyzer()\n",
    "stop_words = set(stopwords.words(\"russian\")) # депрессия, в списке есть некоторые предлоги"
   ]
  },
  {
   "cell_type": "code",
   "execution_count": 67,
   "id": "4613a876",
   "metadata": {},
   "outputs": [],
   "source": [
    "with open(\"lemmas.txt\", \"a+\", encoding=\"UTF-8\") as f:\n",
    "    for book in os.listdir(r\"C:\\Users\\AnAnG\\Desktop\\для дз\"):\n",
    "        with open(\n",
    "            os.path.join(r\"C:\\Users\\AnAnG\\Desktop\\для дз\", book), \"r\", encoding=\"UTF-8\"\n",
    "        ) as b:\n",
    "            text = tokenize.sent_tokenize(b.read())\n",
    "            for sentence in text:\n",
    "                f.write(\n",
    "                    \" \".join(\n",
    "                        [\n",
    "                            morph.parse(item)[0].normal_form\n",
    "                            for item in wordpunct_tokenize(sentence)\n",
    "                            if (item.isalpha() == True and item not in stop_words)\n",
    "                        ]\n",
    "                    )\n",
    "                )\n",
    "                f.write(\"\\n\")"
   ]
  },
  {
   "cell_type": "code",
   "execution_count": 1,
   "id": "38e7070d",
   "metadata": {},
   "outputs": [
    {
     "name": "stdout",
     "output_type": "stream",
     "text": [
      "651366\n"
     ]
    }
   ],
   "source": [
    "with open(\"lemmas.txt\", \"r\", encoding=\"UTF-8\") as f:\n",
    "    file = f.read().split(\" \")\n",
    "print(len(file))"
   ]
  },
  {
   "cell_type": "markdown",
   "id": "c53b7401",
   "metadata": {},
   "source": [
    "# Второе задание"
   ]
  },
  {
   "cell_type": "markdown",
   "id": "b8ca82ca",
   "metadata": {},
   "source": [
    "Согласно требованиям задания, обучаю модель со следующими параметрами: размер вектора 300 (vector_size=300), минимальное количество вхождений 5 (min_count=5), окно 5 (window=5), количество итераций 50 (epochs=50). На печать выводится искомое количество слов."
   ]
  },
  {
   "cell_type": "code",
   "execution_count": 68,
   "id": "0d5a41ea",
   "metadata": {},
   "outputs": [
    {
     "name": "stdout",
     "output_type": "stream",
     "text": [
      "15341\n"
     ]
    }
   ],
   "source": [
    "data = gensim.models.word2vec.LineSentence(\"lemmas.txt\")\n",
    "model_sol = gensim.models.Word2Vec(\n",
    "    data, vector_size=300, window=5, min_count=5, epochs=50\n",
    ")\n",
    "model_sol.init_sims(replace=True)\n",
    "model_path = \"sol.bin\"\n",
    "model_sol.wv.save_word2vec_format(model_path, binary=True)\n",
    "print(len(model_sol.wv.key_to_index))"
   ]
  },
  {
   "cell_type": "markdown",
   "id": "a7c91f73",
   "metadata": {},
   "source": [
    "Получили 15 341 слово (нормально в целом, хотя это, конечно, очень немного для 15 крупных книг). Я, если честно, ожидала около 100 000 или хотя бы 50 000."
   ]
  },
  {
   "cell_type": "markdown",
   "id": "66d9abd4",
   "metadata": {},
   "source": [
    "Ищем и выводим на печать 10 ближайших к абстрактному понятию слов. Получаем красивый распакованный список."
   ]
  },
  {
   "cell_type": "code",
   "execution_count": 71,
   "id": "1e30671a",
   "metadata": {},
   "outputs": [
    {
     "name": "stdout",
     "output_type": "stream",
     "text": [
      "господство\n",
      "армия\n",
      "записываться\n",
      "окружение\n",
      "фронт\n",
      "телевидение\n",
      "литва\n",
      "двухмесячный\n",
      "германский\n",
      "буржуазия\n"
     ]
    }
   ],
   "source": [
    "print(*[token[0] for token in model_sol.wv.most_similar(\"война\", topn=10)], sep=\"\\n\")"
   ]
  },
  {
   "cell_type": "markdown",
   "id": "d1266174",
   "metadata": {},
   "source": [
    "*Насколько ожидаем такой результат? есть ли неожиданные соседи?*\n",
    "\n",
    "В целом, все слова ассоциативно соотносятся с концептом войны. Есть некоторые вопросы к словам \"господство\", \"телевидение\" и \"двухмесячный\". С первым, правда, можно предположить, что речь идет про неравенство в армии (например, в смысле дедовщина как господство одних над другими), со вторым можно предположить, что телевидение становилось основным источником информации о войне в произведениях Солженицына, а с третьим словом (которое кажется достаточно универсальным) можно допустить частое употребление в контексте остаточного срока службы в армии или чего-то подобного.\n",
    "\n",
    "*Есть ли синонимы / антонимы в ближайших к слову?*\n",
    "\n",
    "Антонимов самого слова я не обнаружила. С натяжкой синонимом можно считать \"фронт\", но это скорее не синоним а лексема из коннотативного ряда. сли рассматривать полученный список, среди них я не вижу ярких синонимов или антонимов.\n",
    "\n",
    "*Говорит ли это что-то о самом корпусе?*\n",
    "\n",
    "Судя по полученному списку, ярко прослеживается временная принадлежность текстов. Среди перечисленных лексем указаны не только универсальные атрибуты войны или ассоциативные концепты, близкие войне, но и слова наподобие \"буржуазия\", \"германский\". То есть токены явно указывают на раннюю советскую эпоху."
   ]
  },
  {
   "cell_type": "markdown",
   "id": "2cb3bd9e",
   "metadata": {},
   "source": [
    "Ищем и выводим на печать 10 ближайших к имени героя слов."
   ]
  },
  {
   "cell_type": "code",
   "execution_count": 72,
   "id": "362c9ca9",
   "metadata": {},
   "outputs": [
    {
     "name": "stdout",
     "output_type": "stream",
     "text": [
      "старуха\n",
      "фаддей\n",
      "горница\n",
      "золовка\n",
      "изба\n",
      "коза\n",
      "ефим\n",
      "тётя\n",
      "игнатич\n",
      "горшков\n"
     ]
    }
   ],
   "source": [
    "print(*[token[0] for token in model_sol.wv.most_similar(\"матрёна\", topn=10)], sep=\"\\n\")"
   ]
  },
  {
   "cell_type": "markdown",
   "id": "f992aa2b",
   "metadata": {},
   "source": [
    "*Насколько ожидаем такой результат? есть ли неожиданные соседи?*\n",
    "\n",
    "Результат вполне ожидаемый, всё собственно указывает на героиню рассказа \"Матрёнин двор\" (других Матрён у Солженицына нет). Указаны очень часто упоминающиеся в контексте жизни Матрёны соседи, родственники, друзья. Указаны токены, которые всегда входят в цитаты относительно художественных деталей (интерьерных, например), всегда фигурирующих рядом с Матрёной. Если рассматривать результат, несколько абстрагируясь от содержания текста, можно сделать вывод, что к имени одного героя достаточно близки имена других героев (возможно, они часто упоминаются вместе или автору важно обратить внимание на взаимодействие героев, а не на окружающие их детали).\n",
    "\n",
    "*Есть ли синонимы / антонимы в ближайших к слову?*\n",
    "\n",
    "Антонимов самого имени (если так вообще можно сказать) снова нет. Ну как бы с натяжкой Фаддея можно отнести, потому что в рассказе он антагонист, но это уже привлечение контекста рассказа, антонимов в строгом смысле нет. То же самое с синонимами: они чисто контекстные, связанные с анализом конкретного текста (например, в каком-то смысле \"старуха\" - синоним, но только при наличии знания, что Матрёна в рассказе старая женщина). В списке слова будто не являются друг другу ни антонимами, ни синонимами.\n",
    "\n",
    "*Говорит ли это что-то о самом корпусе?*\n",
    "\n",
    "Имя Матрёна концентрирует лексику из одного конкретного текста и выдает вполне ожидаемые результаты, что уже было сказано ранее. Мне кажется, именно для описания свойств всего корпуса этот пример не очень репрезентативен."
   ]
  },
  {
   "cell_type": "markdown",
   "id": "b8442268",
   "metadata": {},
   "source": [
    "Ищем и выводим на печать 10 ближайших к двум антонимам слов."
   ]
  },
  {
   "cell_type": "code",
   "execution_count": 70,
   "id": "b1a1a152",
   "metadata": {},
   "outputs": [
    {
     "name": "stdout",
     "output_type": "stream",
     "text": [
      "жребий\n",
      "пешка\n",
      "придурочий\n",
      "дорожить\n",
      "пастух\n",
      "верный\n",
      "обмануть\n",
      "дурной\n",
      "завершить\n",
      "безвыходный\n"
     ]
    }
   ],
   "source": [
    "print(\n",
    "    *[\n",
    "        token[0]\n",
    "        for token in model_sol.wv.most_similar(positive=[\"хороший\", \"плохой\"], topn=10)\n",
    "    ],\n",
    "    sep=\"\\n\"\n",
    ")"
   ]
  },
  {
   "cell_type": "markdown",
   "id": "af250364",
   "metadata": {},
   "source": [
    "*Насколько ожидаем такой результат? есть ли неожиданные соседи?*\n",
    "\n",
    "Есть, конечно, вопросы к словам \"безвыходный\", \"придурочий\" и \"дорожить\". Сложно сказать, почему они попали в эту выборку. Хотя про слово \"придурочий\" можно предположить, что в корпусе фигурируют контрастные описания героев с такой характеристикой (придурочий в смысле юродивый (положительные коннотации) и придурочий в смысле странный или безумный (негативные коннотации)). Остальные слова в целом можно ассоциировать с приведенными антонимами.\n",
    "\n",
    "*Есть ли синонимы / антонимы в ближайших к слову?*\n",
    "\n",
    "Антонимы я не нашла, синонимами в списке могут быть в определенном контексте \"придурочий\" и \"дурной\".\n",
    "\n",
    "*Говорит ли это что-то о самом корпусе?*\n",
    "\n",
    "В произведениях Солженицына присутствуют образы (например, \"пешка\"), которые можно ассоциировать с приведенными антонимами, а значит, рассматривать в противоположном смысле. Необычно, что достаточно часто в списке встречаются глаголы (я скорее ожидала существительные или другие прилагательные). Значит, произведения Солженицына, возможно больше построены на предикативных единицах."
   ]
  },
  {
   "cell_type": "markdown",
   "id": "a11fc7c2",
   "metadata": {},
   "source": [
    "Ищем лишнее слово в ряду \"радость-горе-страсть-тоска\". Ожидаю, что лишним будет слово \"радость\", потому что все остальные слова скорее про негативный эмоциональный фон или скорее про яркие эмоции."
   ]
  },
  {
   "cell_type": "code",
   "execution_count": 73,
   "id": "2def1491",
   "metadata": {},
   "outputs": [
    {
     "data": {
      "text/plain": [
       "'тоска'"
      ]
     },
     "execution_count": 73,
     "metadata": {},
     "output_type": "execute_result"
    }
   ],
   "source": [
    "model_sol.wv.doesnt_match(\"радость горе страсть тоска\".split())"
   ]
  },
  {
   "cell_type": "markdown",
   "id": "ce7c16b0",
   "metadata": {},
   "source": [
    "Ура, модель думает так же, как я, результат соответствует ожиданиям."
   ]
  },
  {
   "cell_type": "markdown",
   "id": "d9fe4282",
   "metadata": {},
   "source": [
    "# Третье задание"
   ]
  },
  {
   "cell_type": "markdown",
   "id": "d1af2a43",
   "metadata": {},
   "source": [
    "Код из конспектов не работает и всё время выдает ошибку, так что пришлось дополнить его. Я добавила распаковщик zip-файлов (модуль *zipfile36*) и распаковала модель, которую предварительно скачала. Вроде, работает нормально."
   ]
  },
  {
   "cell_type": "code",
   "execution_count": 15,
   "id": "d7513e10",
   "metadata": {},
   "outputs": [],
   "source": [
    "with zipfile36.ZipFile(\"183.zip\", \"r\") as zf:\n",
    "    zf.extract(\"model.bin\", \".\")\n",
    "\n",
    "model = gensim.models.KeyedVectors.load_word2vec_format(\"model.bin\", binary=True)"
   ]
  },
  {
   "cell_type": "markdown",
   "id": "de31ea6d",
   "metadata": {},
   "source": [
    "Посмотрим, насколько модель в целом адекватна. Взяла пример из дз (пропорция с королем и королевой)."
   ]
  },
  {
   "cell_type": "code",
   "execution_count": 74,
   "id": "349b92a4",
   "metadata": {},
   "outputs": [
    {
     "name": "stdout",
     "output_type": "stream",
     "text": [
      "королева_ADV\n"
     ]
    }
   ],
   "source": [
    "print(\n",
    "    model.most_similar(\n",
    "        positive=[\"король_NOUN\", \"королева_NOUN\"], negative=[\"мужчина_NOUN\"]\n",
    "    )[0][0]\n",
    ")"
   ]
  },
  {
   "cell_type": "markdown",
   "id": "377870b1",
   "metadata": {},
   "source": [
    "Есть, конечно, вопросы, например, почему \"королева\" - это наречие. Но это оставим, главное, что само слово то, которое нужно.\n",
    "\n",
    "Теперь посмотрим, что модель будет выдавать относительно других пропорций. Ожидаю, что *тюрьма - свобода + счастье = горе* (ну или что-то вроде того)."
   ]
  },
  {
   "cell_type": "code",
   "execution_count": 75,
   "id": "21f4dff5",
   "metadata": {},
   "outputs": [
    {
     "name": "stdout",
     "output_type": "stream",
     "text": [
      "несчастье_NOUN\n"
     ]
    }
   ],
   "source": [
    "print(\n",
    "    model.most_similar(\n",
    "        positive=[\"тюрьма_NOUN\", \"счастье_NOUN\"], negative=[\"свобода_NOUN\"]\n",
    "    )[0][0]\n",
    ")"
   ]
  },
  {
   "cell_type": "markdown",
   "id": "0034a5fe",
   "metadata": {},
   "source": [
    "Ура, все сработало примерно так, как я и ожидала."
   ]
  },
  {
   "cell_type": "markdown",
   "id": "d0f5a461",
   "metadata": {},
   "source": [
    "### Визуализация на названиях животных\n",
    "\n",
    "Для визуализации использовала код из конспектов, поменяв список слов.\n",
    "Удивляет только то, что две птицы из списка (дятел и голубь) расположены достаточно далеко друг от друга, хотя единственные в списке птицы вроде должны быть ближе друг к другу, чем к млекопитающим. Напротив, вполне ожидаемо, что кошка расположена рядом с крысой, потому что это наиболее очевидный образ (кошка как охотник на крыс). Баран тоже достаточно ожидаемо удален от других животных, но не очень понятно, почему ближе всего к нему голубь, а не кошка или крыса (как кластер животных, которые могут сосуществовать в деревенском хозяйстве, например)."
   ]
  },
  {
   "cell_type": "code",
   "execution_count": 90,
   "id": "0ce91fb4",
   "metadata": {},
   "outputs": [
    {
     "data": {
      "image/png": "[encoded data removed]",
      "text/plain": [
       "<Figure size 432x288 with 1 Axes>"
      ]
     },
     "metadata": {
      "needs_background": "light"
     },
     "output_type": "display_data"
    }
   ],
   "source": [
    "words = [\"кошка_NOUN\", \"баран_NOUN\", \"голубь_NOUN\", \"дятел_NOUN\", \"крыса_NOUN\"]\n",
    "X = model[words]\n",
    "\n",
    "pca = PCA(n_components=2)\n",
    "coords = pca.fit_transform(X)\n",
    "\n",
    "plt.scatter(coords[:, 0], coords[:, 1], color='red')\n",
    "plt.title('Animals')\n",
    "\n",
    "for i, word in enumerate(words):\n",
    "    plt.annotate(word, xy=(coords[i, 0], coords[i, 1]))\n",
    "plt.show()"
   ]
  },
  {
   "cell_type": "markdown",
   "id": "07a5a7f5",
   "metadata": {},
   "source": [
    "### Визуализация на абстрактных понятиях\n",
    "\n",
    "*здесь и далее нет пояснений по поводу ожиданий от результата, так как графики были уже сделаны, и затем в дз появилось примечание, что нужно сделать лишь один вариант на выбор, а графики удалять было уже жалко.*"
   ]
  },
  {
   "cell_type": "code",
   "execution_count": 91,
   "id": "3e604d9a",
   "metadata": {},
   "outputs": [
    {
     "data": {
      "image/png": "[encoded data removed]",
      "text/plain": [
       "<Figure size 432x288 with 1 Axes>"
      ]
     },
     "metadata": {
      "needs_background": "light"
     },
     "output_type": "display_data"
    }
   ],
   "source": [
    "words = [\"счастье_NOUN\", \"воля_NOUN\", \"время_NOUN\", \"чудо_NOUN\", \"дружба_NOUN\"]\n",
    "X = model[words]\n",
    "\n",
    "pca = PCA(n_components=2)\n",
    "coords = pca.fit_transform(X)\n",
    "\n",
    "plt.scatter(coords[:, 0], coords[:, 1], color='red')\n",
    "plt.title('Abstract words')\n",
    "\n",
    "for i, word in enumerate(words):\n",
    "    plt.annotate(word, xy=(coords[i, 0], coords[i, 1]))\n",
    "plt.show()"
   ]
  },
  {
   "cell_type": "markdown",
   "id": "2481c3aa",
   "metadata": {},
   "source": [
    "### Визуализация на многозначных словах"
   ]
  },
  {
   "cell_type": "code",
   "execution_count": 92,
   "id": "0bf921d9",
   "metadata": {},
   "outputs": [
    {
     "data": {
      "image/png": "[encoded data removed]",
      "text/plain": [
       "<Figure size 432x288 with 1 Axes>"
      ]
     },
     "metadata": {
      "needs_background": "light"
     },
     "output_type": "display_data"
    }
   ],
   "source": [
    "words = [\"лента_NOUN\", \"игла_NOUN\", \"хвост_NOUN\", \"слух_NOUN\", \"море_NOUN\"]\n",
    "X = model[words]\n",
    "\n",
    "pca = PCA(n_components=2)\n",
    "coords = pca.fit_transform(X)\n",
    "\n",
    "plt.scatter(coords[:, 0], coords[:, 1], color='red')\n",
    "plt.title('Polysemantic words')\n",
    "\n",
    "for i, word in enumerate(words):\n",
    "    plt.annotate(word, xy=(coords[i, 0], coords[i, 1]))\n",
    "plt.show()"
   ]
  },
  {
   "cell_type": "markdown",
   "id": "6875956a",
   "metadata": {},
   "source": [
    "Далее я выбрала рандомное предложение из какой-то книги Солженицына. Циклом прохожусь по каждому слову (итерируемый объект то есть список получается в результате токенизации). Сначала идет проверка, работаем мы со словом или какой-то небуквенной строкой (небуквенные игнорируем, они нам не нужны). Далее проверяем, служебное ли это слово. Если да, то просто плюсуем к строке, которая и будет новым предложением (new_sample), если нет, то надо распарсить с помощью pymorphy и добавить частеречный тег. \n",
    "\n",
    "Первый вывод на печать (первая ячейка) - список токенов с частеречными тегами . Поскольку модель НКРЯ и pymorphy пользуются разными тегами, надо поменять их (теги pymorphy на теги НКРЯ). Чтобы их поменять, надо понять, чем они различаются, так что на печать вывожу все токены, которые не являются служебными словами, в виде форматированных строк."
   ]
  },
  {
   "cell_type": "code",
   "execution_count": 85,
   "id": "54e0d42a",
   "metadata": {},
   "outputs": [
    {
     "name": "stdout",
     "output_type": "stream",
     "text": [
      "ещё_ADVB\n",
      "достоинство_NOUN\n",
      "ночной_ADJF\n",
      "арест_NOUN\n",
      "соседний_ADJF\n",
      "дом_NOUN\n",
      "городской_ADJF\n",
      "улица_NOUN\n",
      "видеть_VERB\n",
      "сколько_NUMR\n",
      "увезти_VERB\n",
      "ночь_NOUN\n"
     ]
    }
   ],
   "source": [
    "sample = \"И еще то достоинство у ночных арестов, что ни соседние дома, ни городские улицы не видят, скольких увезли за ночь.\"\n",
    "new_sample = \"\"\n",
    "\n",
    "for token in wordpunct_tokenize(sample):\n",
    "    if token.isalpha() == True:\n",
    "        token = morph.parse(token.lower())[0]\n",
    "        if token.normal_form not in stop_words:\n",
    "            token = f\"{token.normal_form}_{token.tag.POS}\"\n",
    "            print(token)"
   ]
  },
  {
   "cell_type": "markdown",
   "id": "2cddff44",
   "metadata": {},
   "source": [
    "**Здесь дублируется код из предыдущей ячейки, но так сделано специально, потому что без этого посмотреть вывод тегов в адекватном виде без смешивания с другими выводами цикла было бы затруднительно.**\n",
    "\n",
    "Значит, поменять надо три тега: ADVB, ADJF, NUMR. Меняю с помощью .replace(). Дальше как по коду в предыдущих ячейках ищем ближайшее к данному слово, и кладем его в переменную alternative. Дальше отрезаем нижнее подчеркивание и частеречный тег (строка короткая, так что можно просто срез до индекса нижнего подчеркивания). Наконец, все это богатство приплюсовать к строчке с новыми токенами в виде форматированной строки с пробелом в конце. Готово!"
   ]
  },
  {
   "cell_type": "code",
   "execution_count": 89,
   "id": "530e2b7b",
   "metadata": {},
   "outputs": [
    {
     "name": "stdout",
     "output_type": "stream",
     "text": [
      "и еще то достоинство у утренний арестовывать что ни соседний дома ни городской бульвар не увидать сколько увозить за вечер \n"
     ]
    }
   ],
   "source": [
    "new_sample = \"\"\n",
    "sample = \"И еще то достоинство у ночных арестов, что ни соседние дома, ни городские улицы не видят, скольких увезли за ночь.\"\n",
    "\n",
    "for token in wordpunct_tokenize(sample):\n",
    "    if token.isalpha() == True:\n",
    "        token = morph.parse(token.lower())[0]\n",
    "        if token.normal_form not in stop_words:\n",
    "            token = f\"{token.normal_form}_{token.tag.POS}\"\n",
    "            token = (\n",
    "                token.replace(\"ADVB\", \"ADV\")\n",
    "                .replace(\"ADJF\", \"ADJ\")\n",
    "                .replace(\"NUMR\", \"NUM\")\n",
    "            )\n",
    "            alternative = model.most_similar(positive=[token], topn=1)[0][0] # здесь уже токен в нормальном виде\n",
    "            alternative = alternative[: alternative.index(\"_\")]\n",
    "            new_sample += f\"{alternative} \" # чтобы слова не слиплись, пробел после нового полученного токена в форматированной строке\n",
    "        elif token.normal_form in stop_words:\n",
    "            new_sample += f\"{token.normal_form} \"\n",
    "print(new_sample)"
   ]
  },
  {
   "cell_type": "markdown",
   "id": "67ad58ea",
   "metadata": {},
   "source": [
    "Получилось предложение в лемматизированном виде. Если переформулировать по-человечески, получится нечто следующее:\n",
    "*И еще то достоинство у утренних арестов, что ни соседние дома, ни городские бульвары не увидят, сколько увезли за вечер.*\n",
    "Замен получилось не очень много, они в целом даже адекватные, хотя если задуматься над предложением, звучит странно (если аресты утренние при чем тут то, сколько людей увезли за вечер?). То есть в целом нормально, но не идеально."
   ]
  },
  {
   "cell_type": "markdown",
   "id": "3464babe",
   "metadata": {},
   "source": [
    "\n",
    "### 3.2 TF-IDF"
   ]
  },
  {
   "cell_type": "markdown",
   "id": "5f1eeaad",
   "metadata": {},
   "source": [
    "Сразу пропишу функцию в начале кода, чтобы она не мешалась далее и не появилась позже, чем ячейка, в которой эта функция понадобится."
   ]
  },
  {
   "cell_type": "code",
   "execution_count": 96,
   "id": "2029a452",
   "metadata": {},
   "outputs": [],
   "source": [
    "def get_top_tf_idf_words(tfidf_vector, feature_names, top_n):\n",
    "    sorted_nzs = np.argsort(tfidf_vector.data)[:-(top_n+1):-1]\n",
    "    return feature_names[tfidf_vector.indices[sorted_nzs]]"
   ]
  },
  {
   "cell_type": "markdown",
   "id": "e17dbe16",
   "metadata": {},
   "source": [
    "Подготавливаю векторайзер по коду из конспекта и добавляю указанные в задании дополнительные параметры."
   ]
  },
  {
   "cell_type": "code",
   "execution_count": 83,
   "id": "b7729a96",
   "metadata": {},
   "outputs": [],
   "source": [
    "vectorizer = TfidfVectorizer(\n",
    "    analyzer=\"word\", stop_words=stop_words, ngram_range=(1, 3), min_df=3\n",
    ")"
   ]
  },
  {
   "cell_type": "markdown",
   "id": "772ab008",
   "metadata": {},
   "source": [
    "Для сбора статей использую модуль wikipedia (других модулей, где красиво распарсили википедию, к сожалению, не знаю), потому что вручную все это копировать достаточно странно. Сначала необходимо настроить язык, потому что по дефолту модуль лезет в английскую википедию.\n",
    "\n",
    "В переменную articles_for_analysis собираю списки названий подходящих мне статей (их 49, потому что чем больше, тем лучше). Функция search() как раз позволяет искать статьи по ключевым словам. Я просто выбрала рандомные слова, относящиеся к разным областям знаний и поместила их в список key_words. Список articles_for_analysis собран через сложение, потому что иначе там получается список со вложенными списками, что достаточно неудобно, а через плюсики можно сразу получить слитный единообразный список.\n",
    "\n",
    "Наконец, открываю на дозапись файл *\"wiki_collection.txt\"* и вставляю туда тексты статей (каждая статья отделяется от предыдущей переносом строки). Поскольку далее я буду работать с данными в переменных, будем считать, что запись в файл нужна для проверки того, как работает код, а также на случай если в другом коде вдруг понадобятся полученные данные (то есть такая стратегическая заготовка материалов)."
   ]
  },
  {
   "cell_type": "code",
   "execution_count": 84,
   "id": "522ad55c",
   "metadata": {},
   "outputs": [],
   "source": [
    "wikipedia.set_lang(\"ru\")  # википедия, понятное дело, русская\n",
    "\n",
    "key_words = [\"сражение\", \"город\", \"язык\", \"режиссер\", \"роман\", \"уравнение\", \"вещество\"]\n",
    "articles_for_analysis = []\n",
    "\n",
    "for word in key_words:\n",
    "    articles_for_analysis += wikipedia.search(word, results=7)\n",
    "\n",
    "with open(\"wiki_collection.txt\", \"a+\", encoding=\"UTF-8\") as f:\n",
    "    articles_listed = [\n",
    "        wikipedia.page(f\"{item}\").content for item in articles_for_analysis\n",
    "    ]\n",
    "    f.write(\"\\n\".join(articles_listed))"
   ]
  },
  {
   "cell_type": "markdown",
   "id": "84a49b08",
   "metadata": {},
   "source": [
    "Лемматизирую тексты статей так же, как показано в конспектах."
   ]
  },
  {
   "cell_type": "code",
   "execution_count": 93,
   "id": "801d1953",
   "metadata": {},
   "outputs": [],
   "source": [
    "articles_preprocessed = []\n",
    "for article in articles_listed:\n",
    "    list_of_tokens = wordpunct_tokenize(article)\n",
    "    lemmatized = \" \".join(\n",
    "        [\n",
    "            morph.parse(item)[0].normal_form\n",
    "            for item in list_of_tokens\n",
    "            if item.isalpha() == True\n",
    "        ]\n",
    "    )\n",
    "    articles_preprocessed.append(lemmatized)"
   ]
  },
  {
   "cell_type": "markdown",
   "id": "a458be98",
   "metadata": {},
   "source": [
    "Далее в игру вступает собственно метрика TF-IDF, подготавливаем матрицу (в ней лемматизированные тексты статей)."
   ]
  },
  {
   "cell_type": "code",
   "execution_count": 94,
   "id": "04995c9e",
   "metadata": {},
   "outputs": [],
   "source": [
    "tfidf = vectorizer.fit_transform(articles_preprocessed)"
   ]
  },
  {
   "cell_type": "markdown",
   "id": "d490f3f9",
   "metadata": {},
   "source": [
    "Далее наконец печатаю ключевые слова. Поскольку статьи крупные, а по 10 ключевым словам не всегда понятно, о какой именно статье идет речь, печатаю ту часть статьи, которая находится до первой точки. Иногда это оборванное предложение, но важно, что видно заголовок статьи."
   ]
  },
  {
   "cell_type": "code",
   "execution_count": 97,
   "id": "b13f5d25",
   "metadata": {},
   "outputs": [
    {
     "name": "stdout",
     "output_type": "stream",
     "text": [
      "Сражение — столкновение двух армий или флотов (значительных масс войск или сил), приведшее к более или менее существенной перемене обстановки на театре военных действий или театре войны, и определившее участь целой операции или кампании\n",
      "['сражение' 'военный' 'армия' 'бой' 'битва' 'словарь' 'сила' 'кампания'\n",
      " 'генеральный' 'операция']\n",
      "Бороди́нское сраже́ние, или Бороди́нская би́тва (во французской истории — битва у Москвы-реки, фр\n",
      "['генерал' 'армия' 'сражение' 'русский' 'наполеон' 'корпус' 'кутузов'\n",
      " 'войско' 'русский армия' 'французский']\n",
      "Сражение под Малоярославцем (фр\n",
      "['наполеон' 'армия' 'сражение' 'француз' 'кутузов' 'русский' 'октябрь'\n",
      " 'дорога' 'русский армия' 'смоленск']\n",
      "Сражéние под Прóхоровкой — сражение между бронетанковыми частями германской и советской армий в ходе оборонительной фазы Курской битвы\n",
      "['дивизия' 'июль' 'корпус' 'гвардейский' 'армия' 'советский' 'сражение'\n",
      " 'наступление' 'го' 'фланг']\n",
      "Га́нгутское сраже́ние (швед\n",
      "['флот' 'корабль' 'русский' 'отряд' 'сражение' 'победа' 'год' 'шведский'\n",
      " 'пётр' 'морской']\n",
      "Фермопи́льское сраже́ние (др\n",
      "['персидский' 'грек' 'леонид' 'царь' 'войско' 'битва' 'воин' 'греческий'\n",
      " 'сражение' 'отряд']\n",
      "Мукде́нское сраже́ние — наиболее масштабное, продолжительное по времени и самое кровопролитное сражение русско-японской войны, окончившееся победой Японии\n",
      "['армия' 'японский' 'фланг' 'сражение' 'русский' 'генерал' 'чел' 'сила'\n",
      " 'орудие' 'тыс']\n",
      "Го́род — крупный населённый пункт, жители которого заняты, как правило, не сельским хозяйством\n",
      "['город' 'население' 'городской' 'рождаемость' 'сельский' 'агломерация'\n",
      " 'крупный город' 'крупный' 'век' 'проживать']\n",
      "Москва́ (произношение ) — столица России, город федерального значения, административный центр Центрального федерального округа и центр Московской области, в состав которой не входит\n",
      "['москва' 'год' 'город' 'московский' 'столица' 'транспорт' 'крупный'\n",
      " 'центр' 'кольцо' 'территория']\n",
      "Санкт-Петербу́рг (с 18 [31] августа 1914 года до 26 января 1924 года — Петрогра́д, с 26 января 1924 года до 6 сентября 1991 года — Ленингра́д, разг\n",
      "['санкт' 'петербург' 'город' 'санкт петербург' 'год' 'петербургский'\n",
      " 'дворец' 'тысяча' 'собор' 'россия']\n",
      "Му́ула (тур\n",
      "['административный центр' 'административный' 'провинция' 'центр'\n",
      " 'территория' 'город' 'город район' 'империя год' 'город иметь'\n",
      " 'османский империя']\n",
      "Во́лен (нем\n",
      "['официальный' 'входить состав' 'март wayback machine'\n",
      " 'копия март wayback' 'архивный копия март' 'март wayback' 'копия март'\n",
      " 'составлять человек' 'wayback' 'швейцария']\n",
      "Помпеи (итал\n",
      "['город' 'май' 'население' 'составлять человек' 'город находиться'\n",
      " 'занимать площадь' 'год рядом' 'провинция' 'мария' 'соединять']\n",
      "Бу́рса (тур\n",
      "['город' 'турция' 'год' 'мечеть' 'население' 'чел' 'империя' 'зелёный'\n",
      " 'турок' 'османский']\n",
      "Язы́к — сложная знаковая система, естественно или искусственно созданная и соотносящая понятийное содержание и типовое звучание (написание)\n",
      "['язык' 'языковой' 'лингвистика' 'диалект' 'теория' 'система' 'общение'\n",
      " 'носитель' 'происхождение' 'коммуникация']\n",
      "Ру́сский язы́к ([ˈruskʲɪi̯ jɪˈzɨk]  слушать) — язык восточнославянской группы славянской ветви индоевропейской языковой семьи, национальный язык русского народа\n",
      "['язык' 'русский' 'русский язык' 'говор' 'глагол' 'существительное'\n",
      " 'форма' 'падеж' 'прилагательное' 'слово']\n",
      "Англи́йский язык (самоназвание — English, the English language) — язык англо-фризской подгруппы западной группы германской ветви индоевропейской языковой семьи\n",
      "['язык' 'диалект' 'английский' 'английский язык' 'слово' 'глагол'\n",
      " 'германский' 'to' 'американский' 'лата']\n",
      "Python (МФА: [ˈpʌɪθ(ə)n]; в русском языке встречаются названия пито́н или па́йтон) — высокоуровневый язык программирования общего назначения с динамической строгой типизацией и автоматическим управлением памятью, ориентированный на повышение производительности разработчика, читаемости кода и его качества, а также на обеспечение переносимости написанных на нём программ\n",
      "['python' 'язык' 'код' 'модуль' 'библиотека' 'программа' 'реализация'\n",
      " 'объект' 'go' 'интерпретатор']\n",
      "Испа́нский, касти́льский язык (el español, el castellano) — язык испанцев и большинства народов Латинской Америки\n",
      "['испанский' 'язык' 'диалект' 'наречие' 'степень' 'прилагательное' 'слово'\n",
      " 'существительное' 'испания' 'латинский']\n",
      "Go (часто также golang) — компилируемый многопоточный язык программирования, разработанный внутри компании Google\n",
      "['go' 'тип' 'пакет' 'язык' 'код' 'ошибка' 'переменный' 'функция'\n",
      " 'значение' 'строка']\n",
      "Официа́льный язы́к — язык, имеющий привилегированный статус в государстве или международной организации\n",
      "['язык' 'государственный' 'официальный' 'официальный язык' 'государство'\n",
      " 'федерация' 'закон' 'российский федерация' 'английский'\n",
      " 'английский французский']\n",
      "Режиссёр (фр\n",
      "['режиссёр' 'театр' 'спектакль' 'театральный' 'режиссура' 'искусство'\n",
      " 'актёр' 'цирк' 'работа' 'профессия']\n",
      "«Сам себе режиссёр» (ССР) — телевизионная передача, в основе которой лежала демонстрация любительского видео\n",
      "['программа' 'передача' 'год' 'алексей' 'режиссёр' 'ведущий' 'выпуск'\n",
      " 'шоу' 'михаил' 'это']\n",
      "Алекса́ндр Серге́евич Пу́шкин (26 мая [6 июня] 1799, Москва — 29 января [10 февраля] 1837, Санкт-Петербург) — русский поэт, драматург и прозаик, заложивший основы русского реалистического направления, литературный критик и теоретик литературы, историк, публицист, журналист\n",
      "['пушкин' 'поэт' 'год' 'поэма' 'стихотворение' 'издание' 'русский' 'свой'\n",
      " 'михайловский' 'творчество']\n",
      "Театра́льный режиссёр —  руководитель творческого процесса в театре, осуществляющий постановку драматического или музыкально-драматического (оперы, оперетты, мюзикла) произведения\n",
      "['театр' 'режиссёр' 'спектакль' 'актёр' 'режиссура' 'театральный'\n",
      " 'драматический' 'руководитель' 'век' 'постановка']\n",
      "Джордж Миллер (англ\n",
      "['фильм' 'макс' 'джордж' 'год' 'премия' 'хороший' 'снять' 'роль' 'нога'\n",
      " 'продюсер']\n",
      "Григо́рий Васи́льевич Алекса́ндров (фамилия при рождении Мормоне́нко; 10 (23) января 1903, Екатеринбург, Российская империя — 16 декабря 1983, Москва, СССР) — советский кинорежиссёр, сценарист, педагог\n",
      "['фильм' 'орлов' 'год' 'григорий' 'любовь' 'приз' 'премия' 'встреча'\n",
      " 'волга' 'снять']\n",
      "Томас Ли Хо́лланд (англ\n",
      "['фильм' 'премия' 'категория' 'страх' 'номинация' 'хороший' 'ночь'\n",
      " 'хороший фильм' 'победа' 'кинофестиваль']\n",
      "Рома́н — это литературный жанр, чаще прозаический, зародившийся в средние века у романских народов как рассказ на народном языке и ныне превратившийся в самый распространенный вид эпической литературы, изображающий жизнь персонажа с её волнующими страстями, борьбой, социальными противоречиями и стремлениями к идеалу\n",
      "['роман' 'век' 'жизнь' 'жанр' 'литературный' 'герой' 'де' 'свой' 'который'\n",
      " 'английский']\n",
      "Рома́н (лат\n",
      "['роман' 'борис' 'имя' 'день память' 'князь' 'память' 'день'\n",
      " 'христианский' 'святой' 'ум']\n",
      "«Мы» — роман-антиутопия Евгения Замятина, написанный в 1920 году\n",
      "['роман' 'государство' 'далее' 'герой' 'хранитель' 'свой' 'единый' 'стена'\n",
      " 'всё' 'квартира']\n",
      "«Королевский роман» (дат\n",
      "['роман' 'королевский' 'король' 'vii' 'англ сайт' 'фильм' 'сайт'\n",
      " 'придворный' 'фридрих' 'картина']\n",
      "«Дерьмо» — роман Ирвина Уэлша, выпущенный в 1998 году\n",
      "['роман' 'убийство' 'полицейский' 'экранизация' 'наркотик' 'роль сыграть'\n",
      " 'который стремиться' 'регулярно' 'экран выйти' 'расследование']\n",
      "«Чужак» (англ\n",
      "['роман' 'дело' 'местный' 'сша' 'сайт' 'the' 'найти' 'англ' 'подросток'\n",
      " 'облик']\n",
      "«Пла́ха» — роман советского писателя Чингиза Айтматова, опубликованный впервые в 1986 году в журнале «Новый мир»\n",
      "['роман' 'судьба' 'описывать' 'человек' 'россия' 'жизнь' 'советский'\n",
      " 'советский россия' 'президент россия' 'урок']\n",
      "Уравне́ние — равенство вида\n",
      "\n",
      "  \n",
      "    \n",
      "      \n",
      "        f\n",
      "        \n",
      "          (\n",
      "          \n",
      "            \n",
      "              x\n",
      "              \n",
      "                1\n",
      "              \n",
      "            \n",
      "            ,\n",
      "            \n",
      "              x\n",
      "              \n",
      "                2\n",
      "              \n",
      "            \n",
      "            …\n",
      "          \n",
      "          )\n",
      "        \n",
      "        =\n",
      "        g\n",
      "        \n",
      "          (\n",
      "          \n",
      "            \n",
      "              x\n",
      "              \n",
      "                1\n",
      "              \n",
      "            \n",
      "            ,\n",
      "            \n",
      "              x\n",
      "              \n",
      "                2\n",
      "              \n",
      "            \n",
      "            …\n",
      "          \n",
      "          )\n",
      "        \n",
      "      \n",
      "    \n",
      "    {\\displaystyle f\\left(x_{1},x_{2}\\dots \\right)=g\\left(x_{1},x_{2}\\dots \\right)}\n",
      "  ,где чаще всего в качестве \n",
      "  \n",
      "    \n",
      "      \n",
      "        f\n",
      "        ,\n",
      "        g\n",
      "      \n",
      "    \n",
      "    {\\displaystyle f,g}\n",
      "   выступают числовые функции, хотя на практике встречаются и более сложные случаи — например, уравнения для вектор-функций, функциональные уравнения и другие\n",
      "['уравнение' 'displaystyle' 'right' 'left' 'left right' 'корень' 'frac'\n",
      " 'displaystyle left' 'функция' 'displaystyle left right']\n",
      "Дифференциа́льное уравне́ние — уравнение, которое помимо функции содержит её производные\n",
      "['уравнение' 'дифференциальный' 'дифференциальный уравнение'\n",
      " 'displaystyle' 'partial' 'производная' 'frac' 'уравнение частный'\n",
      " 'порядок' 'уравнение частный производная']\n",
      "Квадра́тное уравне́ние — алгебраическое уравнение второй степени с общим видом\n",
      "\n",
      "  \n",
      "    \n",
      "      \n",
      "        a\n",
      "        \n",
      "          x\n",
      "          \n",
      "            2\n",
      "          \n",
      "        \n",
      "        +\n",
      "        b\n",
      "        x\n",
      "        +\n",
      "        c\n",
      "        =\n",
      "        0\n",
      "        ,\n",
      "        \n",
      "        a\n",
      "        ≠\n",
      "        0\n",
      "        ,\n",
      "      \n",
      "    \n",
      "    {\\displaystyle ax^{2}+bx+c=0,\\;a\\neq 0,}\n",
      "  в котором \n",
      "  \n",
      "    \n",
      "      \n",
      "        x\n",
      "      \n",
      "    \n",
      "    {\\displaystyle x}\n",
      "   — неизвестное, а коэффициенты \n",
      "  \n",
      "    \n",
      "      \n",
      "        a\n",
      "      \n",
      "    \n",
      "    {\\displaystyle a}\n",
      "  , \n",
      "  \n",
      "    \n",
      "      \n",
      "        b\n",
      "      \n",
      "    \n",
      "    {\\displaystyle b}\n",
      "   и \n",
      "  \n",
      "    \n",
      "      \n",
      "        c\n",
      "      \n",
      "    \n",
      "    {\\displaystyle c}\n",
      "   — вещественные или комплексные числа\n",
      "['displaystyle' 'уравнение' 'квадратный' 'квадратный уравнение' 'корень'\n",
      " 'frac' 'коэффициент' 'ax' 'displaystyle ax' 'bx']\n",
      "Уравне́ние Шрёдингера — линейное дифференциальное уравнение в частных производных, описывающее изменение в пространстве (в общем случае, в конфигурационном пространстве) и во времени чистого состояния, задаваемого волновой функцией, в гамильтоновых квантовых системах\n",
      "['displaystyle' 'psi' 'frac' 'partial' 'уравнение' 'волновой'\n",
      " 'frac partial' 'partial partial' 'механика' 'displaystyle frac']\n",
      "Зако́н Берну́лли (также уравне́ние Берну́лли, теоре́ма Берну́лли или интегра́л Берну́лли) устанавливает зависимость между скоростью стационарного потока жидкости и её давлением\n",
      "['displaystyle' 'жидкость' 'давление' 'frac' 'интеграл' 'скорость'\n",
      " 'течение' 'закон' 'газ' 'displaystyle frac']\n",
      "Линейное уравнение — это алгебраическое уравнение, у которого полная степень составляющих его многочленов равна 1\n",
      "['уравнение' 'displaystyle' 'линейный' 'линейный уравнение' 'переменный'\n",
      " 'решение' 'cdot' 'коэффициент' 'frac' 'displaystyle cdot']\n",
      "Куби́ческое уравне́ние — алгебраическое уравнение третьей степени, общий вид которого следующий:\n",
      "\n",
      "  \n",
      "    \n",
      "      \n",
      "        a\n",
      "        \n",
      "          x\n",
      "          \n",
      "            3\n",
      "          \n",
      "        \n",
      "        +\n",
      "        b\n",
      "        \n",
      "          x\n",
      "          \n",
      "            2\n",
      "          \n",
      "        \n",
      "        +\n",
      "        c\n",
      "        x\n",
      "        +\n",
      "        d\n",
      "        =\n",
      "        0\n",
      "        ,\n",
      "        \n",
      "        a\n",
      "        ≠\n",
      "        0\n",
      "['уравнение' 'displaystyle' 'frac' 'cdot' 'решение' 'корень' 'cdot cdot'\n",
      " 'displaystyle frac' 'frac frac' 'cos']\n",
      "Вещество́ — одна из форм материи, состоящая из фермионов или содержащая фермионы наряду с бозонами; обладает массой покоя, в отличие от некоторых типов полей, как например электромагнитное\n",
      "['вещество' 'химический' 'химический вещество' 'состояние' 'жидкий'\n",
      " 'агрегатный' 'агрегатный состояние' 'твёрдый' 'свойство' 'газообразный']\n",
      "Серое вещество (лат\n",
      "['серый' 'вещество' 'мозг' 'лата' 'спинной' 'объём' 'клетка' 'нейрон'\n",
      " 'белый' 'ядро']\n",
      "Взры́вчатое вещество́ (просторечие — взрывчатка, сокращается как ВВ) — конденсированное химическое вещество или смесь таких веществ, способное при определённых условиях под влиянием внешних воздействий к быстрому самораспространяющемуся химическому превращению (взрыву) с выделением большого количества тепла и газообразных продуктов\n",
      "['вещество' 'смесь' 'химический' 'применение' 'состав' 'превращение'\n",
      " 'военный' 'промышленный' 'век' 'артиллерийский']\n",
      "Психоактивные вещества́ (ПАВ) — вещества (или смесь нескольких веществ), влияющие на функции центральной нервной системы и приводящие к изменению психического состояния, вплоть до изменённого состояния сознания\n",
      "['вещество' 'нервный' 'зависимость' 'организм' 'нервный система' 'эффект'\n",
      " 'мочь' 'формироваться' 'вещество мочь' 'система']\n",
      "Белое вещество (лат\n",
      "['вещество' 'белый' 'мозг' 'нервный' 'серый' 'головной' 'ядро' 'лата'\n",
      " 'возраст' 'который']\n",
      "Просты́е вещества́ — химические вещества, состоящие исключительно из атомов одного химического элемента, в отличие от сложных веществ\n",
      "['химический' 'вещество' 'элемент' 'простой' 'атом' 'модификация'\n",
      " 'кислород' 'молекула' 'металл' 'понятие']\n",
      "Вода́ (оксид водорода, гидроксид водорода, химическая формула — H2O) — бинарное неорганическое соединение, молекула которого состоит из двух атомов водорода и одного — кислорода, которые соединены между собой ковалентной связью\n",
      "['вода' 'displaystyle' 'молекула' 'вещество' 'лёд' 'земля' 'температура'\n",
      " 'phi' 'жидкий' 'давление']\n"
     ]
    }
   ],
   "source": [
    "feature_names = np.array(vectorizer.get_feature_names())\n",
    "\n",
    "for i, article in enumerate(articles_listed):\n",
    "    vector = tfidf[i, :]\n",
    "    words = get_top_tf_idf_words(vector, feature_names, 10)\n",
    "    print(article.split(\".\")[0], words, sep=\"\\n\")"
   ]
  },
  {
   "cell_type": "markdown",
   "id": "d62b1fc0",
   "metadata": {},
   "source": [
    "Визуализируем вектора."
   ]
  },
  {
   "cell_type": "code",
   "execution_count": 98,
   "id": "f0e39242",
   "metadata": {},
   "outputs": [
    {
     "data": {
      "image/png": "[encoded data removed]",
      "text/plain": [
       "<Figure size 1800x1800 with 1 Axes>"
      ]
     },
     "metadata": {
      "needs_background": "light"
     },
     "output_type": "display_data"
    }
   ],
   "source": [
    "pca = PCA(n_components=2)\n",
    "coords = pca.fit_transform(tfidf.toarray())\n",
    "\n",
    "plt.figure(figsize=(25,25))\n",
    "plt.scatter(coords[:, 0], coords[:, 1], color='red')\n",
    "plt.title('Wikipedia data')\n",
    "\n",
    "for i, article in enumerate(articles_for_analysis):\n",
    "    plt.annotate(article, xy=(coords[i, 0], coords[i, 1]))\n",
    "plt.show()"
   ]
  },
  {
   "cell_type": "markdown",
   "id": "83aa6357",
   "metadata": {},
   "source": [
    "Поскольку статей получилось крайне много, пришлось поменять размер графика, чтобы названия были видны в принципе. Размер установила 25x25, нижний левый кластер все равно выглядит достаточно \"слипшимся\", но это лучше, чем черное облако названий, полученное до изменения размера.\n",
    "\n",
    "Теперь оценим кластеризацию. Вообще достаточно странно, что в один (нижний слева) кластер попали тексты про химию, литературу, города, кино и исторические сражения. Именно эта часть визуализации кажется не очень убедительной. Однако в правом нижнем углу графика достаточно хорошо кластеризовались математические тексты. Одно остается непонятным: почему так далеко от них находится текст про закон Бернулли. Также хорошо кластеризовались тексты в левом верхнем углу графика. Там сосредоточены тексты про химию, причем биологические субстанции сгруппированы между собой теснее, они как бы отделены от химических субстанций, то есть показана разница между двумя разными смыслами слова \"вещество\", и это прямо порадовало.\n",
    "\n",
    "То есть в целом визуализация средняя: местами очень хорошая, местами работает максимально странно."
   ]
  }
 ],
 "metadata": {
  "kernelspec": {
   "display_name": "Python 3 (ipykernel)",
   "language": "python",
   "name": "python3"
  },
  "language_info": {
   "codemirror_mode": {
    "name": "ipython",
    "version": 3
   },
   "file_extension": ".py",
   "mimetype": "text/x-python",
   "name": "python",
   "nbconvert_exporter": "python",
   "pygments_lexer": "ipython3",
   "version": "3.9.13"
  }
 },
 "nbformat": 4,
 "nbformat_minor": 5
}
